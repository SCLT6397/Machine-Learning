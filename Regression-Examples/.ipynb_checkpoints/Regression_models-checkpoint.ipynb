{
 "cells": [
  {
   "cell_type": "code",
   "execution_count": 10,
   "id": "9a88e2bb",
   "metadata": {},
   "outputs": [],
   "source": [
    "import pandas as pd\n",
    "\n",
    "\n",
    "from sklearn.model_selection import train_test_split #to avoid overfitting\n",
    "from sklearn import metrics"
   ]
  },
  {
   "cell_type": "markdown",
   "id": "22d5a495",
   "metadata": {},
   "source": [
    "### Generating the dataset\n",
    "\n",
    "This code generates a synthetic dataset with 1000 samples of square footage, number of bedrooms, and number of bathrooms, and computes the price of each property using a simple linear model with some added noise. You can adjust the model parameters and noise level as needed to generate a dataset that fits your needs."
   ]
  },
  {
   "cell_type": "code",
   "execution_count": 7,
   "id": "d53609a6",
   "metadata": {},
   "outputs": [],
   "source": [
    "#You can add more features if you want to the dataset\n",
    "# import numpy as np\n",
    "# import pandas as pd\n",
    "\n",
    "# # Generate 1000 random samples of square footage, bedrooms, and bathrooms\n",
    "# square_footage = np.random.randint(1000, 3000, size=1000)\n",
    "# bedrooms = np.random.randint(1, 5, size=1000)\n",
    "# bathrooms = np.random.randint(1, 4, size=1000)\n",
    "\n",
    "# # Compute the price using a linear model with some noise added\n",
    "# price = 200000 + 100 * square_footage + 5000 * bedrooms + 10000 * bathrooms + np.random.normal(size=1000) * 10000\n",
    "\n",
    "# # Combine the features and target into a single dataset\n",
    "# data = np.column_stack((square_footage, bedrooms, bathrooms, price))\n",
    "\n",
    "# # Create a pandas dataframe and set column names\n",
    "# df = pd.DataFrame(data, columns=['Square Footage', 'Bedrooms', 'Bathrooms', 'Price'])\n",
    "\n",
    "# # Save the data to a CSV file\n",
    "# df.to_csv('Dataset.csv', index=False)\n"
   ]
  },
  {
   "cell_type": "code",
   "execution_count": 6,
   "id": "0c803f88",
   "metadata": {},
   "outputs": [
    {
     "data": {
      "text/html": [
       "<div>\n",
       "<style scoped>\n",
       "    .dataframe tbody tr th:only-of-type {\n",
       "        vertical-align: middle;\n",
       "    }\n",
       "\n",
       "    .dataframe tbody tr th {\n",
       "        vertical-align: top;\n",
       "    }\n",
       "\n",
       "    .dataframe thead th {\n",
       "        text-align: right;\n",
       "    }\n",
       "</style>\n",
       "<table border=\"1\" class=\"dataframe\">\n",
       "  <thead>\n",
       "    <tr style=\"text-align: right;\">\n",
       "      <th></th>\n",
       "      <th>Square Footage</th>\n",
       "      <th>Bedrooms</th>\n",
       "      <th>Bathrooms</th>\n",
       "      <th>Price</th>\n",
       "    </tr>\n",
       "  </thead>\n",
       "  <tbody>\n",
       "    <tr>\n",
       "      <th>0</th>\n",
       "      <td>2379.0</td>\n",
       "      <td>2.0</td>\n",
       "      <td>2.0</td>\n",
       "      <td>472663.915802</td>\n",
       "    </tr>\n",
       "    <tr>\n",
       "      <th>1</th>\n",
       "      <td>1457.0</td>\n",
       "      <td>3.0</td>\n",
       "      <td>2.0</td>\n",
       "      <td>373785.250101</td>\n",
       "    </tr>\n",
       "    <tr>\n",
       "      <th>2</th>\n",
       "      <td>2633.0</td>\n",
       "      <td>2.0</td>\n",
       "      <td>3.0</td>\n",
       "      <td>506705.732821</td>\n",
       "    </tr>\n",
       "    <tr>\n",
       "      <th>3</th>\n",
       "      <td>1457.0</td>\n",
       "      <td>3.0</td>\n",
       "      <td>2.0</td>\n",
       "      <td>366272.960110</td>\n",
       "    </tr>\n",
       "    <tr>\n",
       "      <th>4</th>\n",
       "      <td>1672.0</td>\n",
       "      <td>2.0</td>\n",
       "      <td>2.0</td>\n",
       "      <td>386739.487927</td>\n",
       "    </tr>\n",
       "    <tr>\n",
       "      <th>...</th>\n",
       "      <td>...</td>\n",
       "      <td>...</td>\n",
       "      <td>...</td>\n",
       "      <td>...</td>\n",
       "    </tr>\n",
       "    <tr>\n",
       "      <th>995</th>\n",
       "      <td>1911.0</td>\n",
       "      <td>2.0</td>\n",
       "      <td>1.0</td>\n",
       "      <td>408066.494156</td>\n",
       "    </tr>\n",
       "    <tr>\n",
       "      <th>996</th>\n",
       "      <td>1686.0</td>\n",
       "      <td>1.0</td>\n",
       "      <td>3.0</td>\n",
       "      <td>405237.221644</td>\n",
       "    </tr>\n",
       "    <tr>\n",
       "      <th>997</th>\n",
       "      <td>1082.0</td>\n",
       "      <td>4.0</td>\n",
       "      <td>1.0</td>\n",
       "      <td>330667.401056</td>\n",
       "    </tr>\n",
       "    <tr>\n",
       "      <th>998</th>\n",
       "      <td>2092.0</td>\n",
       "      <td>1.0</td>\n",
       "      <td>1.0</td>\n",
       "      <td>417936.996209</td>\n",
       "    </tr>\n",
       "    <tr>\n",
       "      <th>999</th>\n",
       "      <td>2942.0</td>\n",
       "      <td>4.0</td>\n",
       "      <td>3.0</td>\n",
       "      <td>531584.036939</td>\n",
       "    </tr>\n",
       "  </tbody>\n",
       "</table>\n",
       "<p>1000 rows × 4 columns</p>\n",
       "</div>"
      ],
      "text/plain": [
       "     Square Footage  Bedrooms  Bathrooms          Price\n",
       "0            2379.0       2.0        2.0  472663.915802\n",
       "1            1457.0       3.0        2.0  373785.250101\n",
       "2            2633.0       2.0        3.0  506705.732821\n",
       "3            1457.0       3.0        2.0  366272.960110\n",
       "4            1672.0       2.0        2.0  386739.487927\n",
       "..              ...       ...        ...            ...\n",
       "995          1911.0       2.0        1.0  408066.494156\n",
       "996          1686.0       1.0        3.0  405237.221644\n",
       "997          1082.0       4.0        1.0  330667.401056\n",
       "998          2092.0       1.0        1.0  417936.996209\n",
       "999          2942.0       4.0        3.0  531584.036939\n",
       "\n",
       "[1000 rows x 4 columns]"
      ]
     },
     "execution_count": 6,
     "metadata": {},
     "output_type": "execute_result"
    }
   ],
   "source": [
    "import pandas as pd\n",
    "\n",
    "#import data\n",
    "df = pd.read_csv(\"Dataset.csv\")  #Change the path and File name if you are running this from your PC\n",
    "df"
   ]
  },
  {
   "cell_type": "code",
   "execution_count": 12,
   "id": "28e9329d",
   "metadata": {},
   "outputs": [],
   "source": [
    "#features and target\n",
    "features = ['Square Footage','Bedrooms', 'Bathrooms']\n",
    "target = 'Price'\n",
    "#X and y data\n",
    "x = df[features]\n",
    "y = df[target]\n",
    "x_train, x_test, y_train, y_test = train_test_split(x, y, test_size=0.3,random_state=1)"
   ]
  },
  {
   "cell_type": "markdown",
   "id": "4901706a",
   "metadata": {},
   "source": [
    "### Linear Regression Model"
   ]
  },
  {
   "cell_type": "code",
   "execution_count": 13,
   "id": "e8e16458",
   "metadata": {},
   "outputs": [
    {
     "name": "stdout",
     "output_type": "stream",
     "text": [
      "coefficients:  [  101.01608624  4675.18869697 10225.53300508]\n",
      "constant term:  198484.55190641255\n",
      "0.9745251229709713\n"
     ]
    }
   ],
   "source": [
    "from sklearn.linear_model import LinearRegression\n",
    "\n",
    "#Model\n",
    "model = LinearRegression()\n",
    "model.fit(x_train, y_train)\n",
    "#predict\n",
    "y_test_pred = model.predict(x_test)\n",
    "#performance\n",
    "print(\"coefficients: \", model.coef_)\n",
    "print(\"constant term: \", model.intercept_)\n",
    "print(metrics.r2_score(y_test, y_test_pred))"
   ]
  },
  {
   "cell_type": "markdown",
   "id": "ac5f13c8",
   "metadata": {},
   "source": [
    "### Decision Tree Regressor"
   ]
  },
  {
   "cell_type": "code",
   "execution_count": 14,
   "id": "94a61346",
   "metadata": {},
   "outputs": [
    {
     "name": "stdout",
     "output_type": "stream",
     "text": [
      "0.9369769850941954\n"
     ]
    }
   ],
   "source": [
    "from sklearn.tree import DecisionTreeRegressor\n",
    "\n",
    "#Model\n",
    "model = DecisionTreeRegressor() \n",
    "model.fit(x_train, y_train)\n",
    "#predict\n",
    "y_test_pred = model.predict(x_test)\n",
    "#performance\n",
    "print(metrics.r2_score(y_test, y_test_pred))"
   ]
  },
  {
   "cell_type": "code",
   "execution_count": null,
   "id": "5c0b4e9b",
   "metadata": {},
   "outputs": [],
   "source": []
  }
 ],
 "metadata": {
  "kernelspec": {
   "display_name": "Python 3 (ipykernel)",
   "language": "python",
   "name": "python3"
  },
  "language_info": {
   "codemirror_mode": {
    "name": "ipython",
    "version": 3
   },
   "file_extension": ".py",
   "mimetype": "text/x-python",
   "name": "python",
   "nbconvert_exporter": "python",
   "pygments_lexer": "ipython3",
   "version": "3.9.7"
  }
 },
 "nbformat": 4,
 "nbformat_minor": 5
}
