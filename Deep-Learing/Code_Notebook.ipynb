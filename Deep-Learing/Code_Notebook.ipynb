{
 "cells": [
  {
   "cell_type": "code",
   "execution_count": 1,
   "id": "ff1785d7",
   "metadata": {},
   "outputs": [],
   "source": [
    "#Importing all the Libraries\n",
    "import tensorflow as tf\n",
    "from tensorflow.keras.preprocessing.text import Tokenizer\n",
    "from tensorflow.keras.preprocessing.sequence import pad_sequences\n",
    "from tensorflow.keras.models import Sequential\n",
    "from tensorflow.keras.layers import LSTM,Dense, Dropout, SpatialDropout1D\n",
    "from tensorflow.keras.layers import Embedding\n",
    "from tensorflow.keras.callbacks import ModelCheckpoint\n",
    "from keras.layers import Concatenate\n",
    "from keras.models import Model\n",
    "from keras.layers import Bidirectional\n",
    "from sklearn.metrics import roc_curve, auc,roc_auc_score\n",
    "from sklearn.metrics import confusion_matrix, accuracy_score,classification_report\n",
    "from sklearn.model_selection import cross_val_score\n",
    "from sklearn.model_selection import train_test_split\n",
    "from tensorflow.keras.utils import plot_model\n",
    "import numpy as np\n",
    "import matplotlib.pyplot as plt\n",
    "import pickle\n",
    "\n",
    "\n",
    "from sklearn.preprocessing import FunctionTransformer\n",
    "from nltk.stem import WordNetLemmatizer\n",
    "from nltk.tokenize import TweetTokenizer\n",
    "from sklearn.pipeline import Pipeline\n",
    "import re\n",
    "import pandas as pd\n",
    "from nltk.corpus import stopwords\n",
    "from wordcloud import WordCloud, STOPWORDS\n",
    "import spacy"
   ]
  },
  {
   "cell_type": "markdown",
   "id": "9378ed31",
   "metadata": {},
   "source": [
    "### Dataset\n",
    "Amazon Customer Reviews (also known as Product Reviews) contain all of the reviews of well-known products on Amazon. Over 100 million reviews have been written by consumers of Amazon since the first one appeared in 1995, expressing their thoughts and sharing their experiences with various products on the Amazon.com website. All these were released to the public and available on Kaggle. The datset used in this work is US video games data.\n",
    "\n",
    "\n",
    "The dataset is available at\n",
    "(https://www.kaggle.com/datasets/cynthiarempel/amazon-us-customer-reviews-dataset?select=amazon_reviews_us_Digital_Video_Games_v1_00.tsv)"
   ]
  },
  {
   "cell_type": "code",
   "execution_count": 2,
   "id": "c20d162a",
   "metadata": {},
   "outputs": [
    {
     "data": {
      "text/html": [
       "<div>\n",
       "<style scoped>\n",
       "    .dataframe tbody tr th:only-of-type {\n",
       "        vertical-align: middle;\n",
       "    }\n",
       "\n",
       "    .dataframe tbody tr th {\n",
       "        vertical-align: top;\n",
       "    }\n",
       "\n",
       "    .dataframe thead th {\n",
       "        text-align: right;\n",
       "    }\n",
       "</style>\n",
       "<table border=\"1\" class=\"dataframe\">\n",
       "  <thead>\n",
       "    <tr style=\"text-align: right;\">\n",
       "      <th></th>\n",
       "      <th>marketplace</th>\n",
       "      <th>customer_id</th>\n",
       "      <th>review_id</th>\n",
       "      <th>product_id</th>\n",
       "      <th>product_parent</th>\n",
       "      <th>product_title</th>\n",
       "      <th>product_category</th>\n",
       "      <th>star_rating</th>\n",
       "      <th>helpful_votes</th>\n",
       "      <th>total_votes</th>\n",
       "      <th>vine</th>\n",
       "      <th>verified_purchase</th>\n",
       "      <th>review_headline</th>\n",
       "      <th>review_body</th>\n",
       "      <th>review_date</th>\n",
       "    </tr>\n",
       "  </thead>\n",
       "  <tbody>\n",
       "    <tr>\n",
       "      <th>0</th>\n",
       "      <td>US</td>\n",
       "      <td>21269168</td>\n",
       "      <td>RSH1OZ87OYK92</td>\n",
       "      <td>B013PURRZW</td>\n",
       "      <td>603406193</td>\n",
       "      <td>Madden NFL 16 - Xbox One Digital Code</td>\n",
       "      <td>Digital_Video_Games</td>\n",
       "      <td>2</td>\n",
       "      <td>2</td>\n",
       "      <td>3</td>\n",
       "      <td>N</td>\n",
       "      <td>N</td>\n",
       "      <td>A slight improvement from last year.</td>\n",
       "      <td>I keep buying madden every year hoping they ge...</td>\n",
       "      <td>2015-08-31</td>\n",
       "    </tr>\n",
       "    <tr>\n",
       "      <th>1</th>\n",
       "      <td>US</td>\n",
       "      <td>133437</td>\n",
       "      <td>R1WFOQ3N9BO65I</td>\n",
       "      <td>B00F4CEHNK</td>\n",
       "      <td>341969535</td>\n",
       "      <td>Xbox Live Gift Card</td>\n",
       "      <td>Digital_Video_Games</td>\n",
       "      <td>5</td>\n",
       "      <td>0</td>\n",
       "      <td>0</td>\n",
       "      <td>N</td>\n",
       "      <td>Y</td>\n",
       "      <td>Five Stars</td>\n",
       "      <td>Awesome</td>\n",
       "      <td>2015-08-31</td>\n",
       "    </tr>\n",
       "    <tr>\n",
       "      <th>2</th>\n",
       "      <td>US</td>\n",
       "      <td>45765011</td>\n",
       "      <td>R3YOOS71KM5M9</td>\n",
       "      <td>B00DNHLFQA</td>\n",
       "      <td>951665344</td>\n",
       "      <td>Command &amp; Conquer The Ultimate Collection [Ins...</td>\n",
       "      <td>Digital_Video_Games</td>\n",
       "      <td>5</td>\n",
       "      <td>0</td>\n",
       "      <td>0</td>\n",
       "      <td>N</td>\n",
       "      <td>Y</td>\n",
       "      <td>Hail to the great Yuri!</td>\n",
       "      <td>If you are prepping for the end of the world t...</td>\n",
       "      <td>2015-08-31</td>\n",
       "    </tr>\n",
       "    <tr>\n",
       "      <th>3</th>\n",
       "      <td>US</td>\n",
       "      <td>113118</td>\n",
       "      <td>R3R14UATT3OUFU</td>\n",
       "      <td>B004RMK5QG</td>\n",
       "      <td>395682204</td>\n",
       "      <td>Playstation Plus Subscription</td>\n",
       "      <td>Digital_Video_Games</td>\n",
       "      <td>5</td>\n",
       "      <td>0</td>\n",
       "      <td>0</td>\n",
       "      <td>N</td>\n",
       "      <td>Y</td>\n",
       "      <td>Five Stars</td>\n",
       "      <td>Perfect</td>\n",
       "      <td>2015-08-31</td>\n",
       "    </tr>\n",
       "    <tr>\n",
       "      <th>4</th>\n",
       "      <td>US</td>\n",
       "      <td>22151364</td>\n",
       "      <td>RV2W9SGDNQA2C</td>\n",
       "      <td>B00G9BNLQE</td>\n",
       "      <td>640460561</td>\n",
       "      <td>Saints Row IV - Enter The Dominatrix [Online G...</td>\n",
       "      <td>Digital_Video_Games</td>\n",
       "      <td>5</td>\n",
       "      <td>0</td>\n",
       "      <td>0</td>\n",
       "      <td>N</td>\n",
       "      <td>Y</td>\n",
       "      <td>Five Stars</td>\n",
       "      <td>Awesome!</td>\n",
       "      <td>2015-08-31</td>\n",
       "    </tr>\n",
       "  </tbody>\n",
       "</table>\n",
       "</div>"
      ],
      "text/plain": [
       "  marketplace  customer_id       review_id  product_id  product_parent  \\\n",
       "0          US     21269168   RSH1OZ87OYK92  B013PURRZW       603406193   \n",
       "1          US       133437  R1WFOQ3N9BO65I  B00F4CEHNK       341969535   \n",
       "2          US     45765011   R3YOOS71KM5M9  B00DNHLFQA       951665344   \n",
       "3          US       113118  R3R14UATT3OUFU  B004RMK5QG       395682204   \n",
       "4          US     22151364   RV2W9SGDNQA2C  B00G9BNLQE       640460561   \n",
       "\n",
       "                                       product_title     product_category  \\\n",
       "0              Madden NFL 16 - Xbox One Digital Code  Digital_Video_Games   \n",
       "1                                Xbox Live Gift Card  Digital_Video_Games   \n",
       "2  Command & Conquer The Ultimate Collection [Ins...  Digital_Video_Games   \n",
       "3                      Playstation Plus Subscription  Digital_Video_Games   \n",
       "4  Saints Row IV - Enter The Dominatrix [Online G...  Digital_Video_Games   \n",
       "\n",
       "   star_rating  helpful_votes  total_votes vine verified_purchase  \\\n",
       "0            2              2            3    N                 N   \n",
       "1            5              0            0    N                 Y   \n",
       "2            5              0            0    N                 Y   \n",
       "3            5              0            0    N                 Y   \n",
       "4            5              0            0    N                 Y   \n",
       "\n",
       "                        review_headline  \\\n",
       "0  A slight improvement from last year.   \n",
       "1                            Five Stars   \n",
       "2               Hail to the great Yuri!   \n",
       "3                            Five Stars   \n",
       "4                            Five Stars   \n",
       "\n",
       "                                         review_body review_date  \n",
       "0  I keep buying madden every year hoping they ge...  2015-08-31  \n",
       "1                                            Awesome  2015-08-31  \n",
       "2  If you are prepping for the end of the world t...  2015-08-31  \n",
       "3                                            Perfect  2015-08-31  \n",
       "4                                           Awesome!  2015-08-31  "
      ]
     },
     "execution_count": 2,
     "metadata": {},
     "output_type": "execute_result"
    }
   ],
   "source": [
    "#Loading the data to df\n",
    "df=pd.read_csv('C:\\\\Users\\\\Dell\\\\Downloads\\\\Telegram Desktop\\\\amazon_reviews_us_Digital_Video_Games_v1_00.tsv', sep='\\t')\n",
    "df.head()"
   ]
  },
  {
   "cell_type": "markdown",
   "id": "43ee4bbd",
   "metadata": {},
   "source": [
    "### Data Preprocessing"
   ]
  },
  {
   "cell_type": "markdown",
   "id": "d47160d1",
   "metadata": {},
   "source": [
    "#### Converting the review text to lower case"
   ]
  },
  {
   "cell_type": "code",
   "execution_count": 3,
   "id": "8b535d0e",
   "metadata": {},
   "outputs": [
    {
     "data": {
      "text/plain": [
       "0    i keep buying madden every year hoping they ge...\n",
       "1                                              awesome\n",
       "2    if you are prepping for the end of the world t...\n",
       "3                                              perfect\n",
       "4                                             awesome!\n",
       "Name: review_text, dtype: object"
      ]
     },
     "execution_count": 3,
     "metadata": {},
     "output_type": "execute_result"
    }
   ],
   "source": [
    "nlp = spacy.load('en_core_web_sm', disable=['parser', 'ner'])\n",
    "df.dropna(axis=0)\n",
    "df['review_text'] = df['review_body'].str.lower()   #Converting to Lower case\n",
    "df['review_text'].head()"
   ]
  },
  {
   "cell_type": "markdown",
   "id": "3f779c3c",
   "metadata": {},
   "source": [
    "#### Removing all the punctuation marks if present"
   ]
  },
  {
   "cell_type": "code",
   "execution_count": 4,
   "id": "282ff5b2",
   "metadata": {},
   "outputs": [
    {
     "name": "stderr",
     "output_type": "stream",
     "text": [
      "C:\\Users\\Dell\\AppData\\Local\\Temp/ipykernel_8688/307170365.py:1: FutureWarning: The default value of regex will change from True to False in a future version.\n",
      "  df['review_text'] = df['review_text'].str.replace('[^\\w\\s]','') #Removing punctuations\n"
     ]
    },
    {
     "data": {
      "text/plain": [
       "0    i keep buying madden every year hoping they ge...\n",
       "1                                              awesome\n",
       "2    if you are prepping for the end of the world t...\n",
       "3                                              perfect\n",
       "4                                              awesome\n",
       "Name: review_text, dtype: object"
      ]
     },
     "execution_count": 4,
     "metadata": {},
     "output_type": "execute_result"
    }
   ],
   "source": [
    "df['review_text'] = df['review_text'].str.replace('[^\\w\\s]','') #Removing punctuations\n",
    "df['review_text'].head()"
   ]
  },
  {
   "cell_type": "markdown",
   "id": "d1e95bff",
   "metadata": {},
   "source": [
    "#### Removing numbers in the data if present"
   ]
  },
  {
   "cell_type": "code",
   "execution_count": 5,
   "id": "5d682985",
   "metadata": {},
   "outputs": [
    {
     "name": "stderr",
     "output_type": "stream",
     "text": [
      "C:\\Users\\Dell\\AppData\\Local\\Temp/ipykernel_8688/1880823837.py:1: FutureWarning: The default value of regex will change from True to False in a future version.\n",
      "  df['review_text'] = df['review_text'].str.replace('\\d+', '') #Removing numbers\n"
     ]
    },
    {
     "data": {
      "text/plain": [
       "0    i keep buying madden every year hoping they ge...\n",
       "1                                              awesome\n",
       "2    if you are prepping for the end of the world t...\n",
       "3                                              perfect\n",
       "4                                              awesome\n",
       "Name: review_text, dtype: object"
      ]
     },
     "execution_count": 5,
     "metadata": {},
     "output_type": "execute_result"
    }
   ],
   "source": [
    "df['review_text'] = df['review_text'].str.replace('\\d+', '') #Removing numbers\n",
    "df.dropna()\n",
    "df['review_text'].head()"
   ]
  },
  {
   "cell_type": "markdown",
   "id": "5ed27db6",
   "metadata": {},
   "source": [
    "#### Removing Stop Words in the data "
   ]
  },
  {
   "cell_type": "code",
   "execution_count": 6,
   "id": "a3a8e8ed",
   "metadata": {},
   "outputs": [],
   "source": [
    "#Removing the stop words \n",
    "df = df[df['review_text'].notnull()]\n",
    "stop = stopwords.words('english')\n",
    "df['review_text'] = df['review_text'].apply(lambda x: ' '.join([word for word in x.split() if word not in (stop)]))"
   ]
  },
  {
   "cell_type": "code",
   "execution_count": 7,
   "id": "747aa2a9",
   "metadata": {},
   "outputs": [
    {
     "data": {
      "text/html": [
       "<div>\n",
       "<style scoped>\n",
       "    .dataframe tbody tr th:only-of-type {\n",
       "        vertical-align: middle;\n",
       "    }\n",
       "\n",
       "    .dataframe tbody tr th {\n",
       "        vertical-align: top;\n",
       "    }\n",
       "\n",
       "    .dataframe thead th {\n",
       "        text-align: right;\n",
       "    }\n",
       "</style>\n",
       "<table border=\"1\" class=\"dataframe\">\n",
       "  <thead>\n",
       "    <tr style=\"text-align: right;\">\n",
       "      <th></th>\n",
       "      <th>marketplace</th>\n",
       "      <th>customer_id</th>\n",
       "      <th>review_id</th>\n",
       "      <th>product_id</th>\n",
       "      <th>product_parent</th>\n",
       "      <th>product_title</th>\n",
       "      <th>product_category</th>\n",
       "      <th>star_rating</th>\n",
       "      <th>helpful_votes</th>\n",
       "      <th>total_votes</th>\n",
       "      <th>vine</th>\n",
       "      <th>verified_purchase</th>\n",
       "      <th>review_headline</th>\n",
       "      <th>review_body</th>\n",
       "      <th>review_date</th>\n",
       "      <th>review_text</th>\n",
       "    </tr>\n",
       "  </thead>\n",
       "  <tbody>\n",
       "    <tr>\n",
       "      <th>0</th>\n",
       "      <td>US</td>\n",
       "      <td>21269168</td>\n",
       "      <td>RSH1OZ87OYK92</td>\n",
       "      <td>B013PURRZW</td>\n",
       "      <td>603406193</td>\n",
       "      <td>Madden NFL 16 - Xbox One Digital Code</td>\n",
       "      <td>Digital_Video_Games</td>\n",
       "      <td>2</td>\n",
       "      <td>2</td>\n",
       "      <td>3</td>\n",
       "      <td>N</td>\n",
       "      <td>N</td>\n",
       "      <td>A slight improvement from last year.</td>\n",
       "      <td>I keep buying madden every year hoping they ge...</td>\n",
       "      <td>2015-08-31</td>\n",
       "      <td>keep buying madden every year hoping get back ...</td>\n",
       "    </tr>\n",
       "    <tr>\n",
       "      <th>1</th>\n",
       "      <td>US</td>\n",
       "      <td>133437</td>\n",
       "      <td>R1WFOQ3N9BO65I</td>\n",
       "      <td>B00F4CEHNK</td>\n",
       "      <td>341969535</td>\n",
       "      <td>Xbox Live Gift Card</td>\n",
       "      <td>Digital_Video_Games</td>\n",
       "      <td>5</td>\n",
       "      <td>0</td>\n",
       "      <td>0</td>\n",
       "      <td>N</td>\n",
       "      <td>Y</td>\n",
       "      <td>Five Stars</td>\n",
       "      <td>Awesome</td>\n",
       "      <td>2015-08-31</td>\n",
       "      <td>awesome</td>\n",
       "    </tr>\n",
       "    <tr>\n",
       "      <th>2</th>\n",
       "      <td>US</td>\n",
       "      <td>45765011</td>\n",
       "      <td>R3YOOS71KM5M9</td>\n",
       "      <td>B00DNHLFQA</td>\n",
       "      <td>951665344</td>\n",
       "      <td>Command &amp; Conquer The Ultimate Collection [Ins...</td>\n",
       "      <td>Digital_Video_Games</td>\n",
       "      <td>5</td>\n",
       "      <td>0</td>\n",
       "      <td>0</td>\n",
       "      <td>N</td>\n",
       "      <td>Y</td>\n",
       "      <td>Hail to the great Yuri!</td>\n",
       "      <td>If you are prepping for the end of the world t...</td>\n",
       "      <td>2015-08-31</td>\n",
       "      <td>prepping end world one things installed youren...</td>\n",
       "    </tr>\n",
       "    <tr>\n",
       "      <th>3</th>\n",
       "      <td>US</td>\n",
       "      <td>113118</td>\n",
       "      <td>R3R14UATT3OUFU</td>\n",
       "      <td>B004RMK5QG</td>\n",
       "      <td>395682204</td>\n",
       "      <td>Playstation Plus Subscription</td>\n",
       "      <td>Digital_Video_Games</td>\n",
       "      <td>5</td>\n",
       "      <td>0</td>\n",
       "      <td>0</td>\n",
       "      <td>N</td>\n",
       "      <td>Y</td>\n",
       "      <td>Five Stars</td>\n",
       "      <td>Perfect</td>\n",
       "      <td>2015-08-31</td>\n",
       "      <td>perfect</td>\n",
       "    </tr>\n",
       "    <tr>\n",
       "      <th>4</th>\n",
       "      <td>US</td>\n",
       "      <td>22151364</td>\n",
       "      <td>RV2W9SGDNQA2C</td>\n",
       "      <td>B00G9BNLQE</td>\n",
       "      <td>640460561</td>\n",
       "      <td>Saints Row IV - Enter The Dominatrix [Online G...</td>\n",
       "      <td>Digital_Video_Games</td>\n",
       "      <td>5</td>\n",
       "      <td>0</td>\n",
       "      <td>0</td>\n",
       "      <td>N</td>\n",
       "      <td>Y</td>\n",
       "      <td>Five Stars</td>\n",
       "      <td>Awesome!</td>\n",
       "      <td>2015-08-31</td>\n",
       "      <td>awesome</td>\n",
       "    </tr>\n",
       "  </tbody>\n",
       "</table>\n",
       "</div>"
      ],
      "text/plain": [
       "  marketplace  customer_id       review_id  product_id  product_parent  \\\n",
       "0          US     21269168   RSH1OZ87OYK92  B013PURRZW       603406193   \n",
       "1          US       133437  R1WFOQ3N9BO65I  B00F4CEHNK       341969535   \n",
       "2          US     45765011   R3YOOS71KM5M9  B00DNHLFQA       951665344   \n",
       "3          US       113118  R3R14UATT3OUFU  B004RMK5QG       395682204   \n",
       "4          US     22151364   RV2W9SGDNQA2C  B00G9BNLQE       640460561   \n",
       "\n",
       "                                       product_title     product_category  \\\n",
       "0              Madden NFL 16 - Xbox One Digital Code  Digital_Video_Games   \n",
       "1                                Xbox Live Gift Card  Digital_Video_Games   \n",
       "2  Command & Conquer The Ultimate Collection [Ins...  Digital_Video_Games   \n",
       "3                      Playstation Plus Subscription  Digital_Video_Games   \n",
       "4  Saints Row IV - Enter The Dominatrix [Online G...  Digital_Video_Games   \n",
       "\n",
       "   star_rating  helpful_votes  total_votes vine verified_purchase  \\\n",
       "0            2              2            3    N                 N   \n",
       "1            5              0            0    N                 Y   \n",
       "2            5              0            0    N                 Y   \n",
       "3            5              0            0    N                 Y   \n",
       "4            5              0            0    N                 Y   \n",
       "\n",
       "                        review_headline  \\\n",
       "0  A slight improvement from last year.   \n",
       "1                            Five Stars   \n",
       "2               Hail to the great Yuri!   \n",
       "3                            Five Stars   \n",
       "4                            Five Stars   \n",
       "\n",
       "                                         review_body review_date  \\\n",
       "0  I keep buying madden every year hoping they ge...  2015-08-31   \n",
       "1                                            Awesome  2015-08-31   \n",
       "2  If you are prepping for the end of the world t...  2015-08-31   \n",
       "3                                            Perfect  2015-08-31   \n",
       "4                                           Awesome!  2015-08-31   \n",
       "\n",
       "                                         review_text  \n",
       "0  keep buying madden every year hoping get back ...  \n",
       "1                                            awesome  \n",
       "2  prepping end world one things installed youren...  \n",
       "3                                            perfect  \n",
       "4                                            awesome  "
      ]
     },
     "execution_count": 7,
     "metadata": {},
     "output_type": "execute_result"
    }
   ],
   "source": [
    "df.head()"
   ]
  },
  {
   "cell_type": "markdown",
   "id": "2312261f",
   "metadata": {},
   "source": [
    "#### Creating a target variable using the ratings given by customers"
   ]
  },
  {
   "cell_type": "code",
   "execution_count": 8,
   "id": "87bd6d09",
   "metadata": {},
   "outputs": [
    {
     "data": {
      "text/html": [
       "<div>\n",
       "<style scoped>\n",
       "    .dataframe tbody tr th:only-of-type {\n",
       "        vertical-align: middle;\n",
       "    }\n",
       "\n",
       "    .dataframe tbody tr th {\n",
       "        vertical-align: top;\n",
       "    }\n",
       "\n",
       "    .dataframe thead th {\n",
       "        text-align: right;\n",
       "    }\n",
       "</style>\n",
       "<table border=\"1\" class=\"dataframe\">\n",
       "  <thead>\n",
       "    <tr style=\"text-align: right;\">\n",
       "      <th></th>\n",
       "      <th>marketplace</th>\n",
       "      <th>customer_id</th>\n",
       "      <th>review_id</th>\n",
       "      <th>product_id</th>\n",
       "      <th>product_parent</th>\n",
       "      <th>product_title</th>\n",
       "      <th>product_category</th>\n",
       "      <th>star_rating</th>\n",
       "      <th>helpful_votes</th>\n",
       "      <th>total_votes</th>\n",
       "      <th>vine</th>\n",
       "      <th>verified_purchase</th>\n",
       "      <th>review_headline</th>\n",
       "      <th>review_body</th>\n",
       "      <th>review_date</th>\n",
       "      <th>review_text</th>\n",
       "      <th>bad_product</th>\n",
       "    </tr>\n",
       "  </thead>\n",
       "  <tbody>\n",
       "    <tr>\n",
       "      <th>0</th>\n",
       "      <td>US</td>\n",
       "      <td>21269168</td>\n",
       "      <td>RSH1OZ87OYK92</td>\n",
       "      <td>B013PURRZW</td>\n",
       "      <td>603406193</td>\n",
       "      <td>Madden NFL 16 - Xbox One Digital Code</td>\n",
       "      <td>Digital_Video_Games</td>\n",
       "      <td>2</td>\n",
       "      <td>2</td>\n",
       "      <td>3</td>\n",
       "      <td>N</td>\n",
       "      <td>N</td>\n",
       "      <td>A slight improvement from last year.</td>\n",
       "      <td>I keep buying madden every year hoping they ge...</td>\n",
       "      <td>2015-08-31</td>\n",
       "      <td>keep buying madden every year hoping get back ...</td>\n",
       "      <td>1</td>\n",
       "    </tr>\n",
       "    <tr>\n",
       "      <th>1</th>\n",
       "      <td>US</td>\n",
       "      <td>133437</td>\n",
       "      <td>R1WFOQ3N9BO65I</td>\n",
       "      <td>B00F4CEHNK</td>\n",
       "      <td>341969535</td>\n",
       "      <td>Xbox Live Gift Card</td>\n",
       "      <td>Digital_Video_Games</td>\n",
       "      <td>5</td>\n",
       "      <td>0</td>\n",
       "      <td>0</td>\n",
       "      <td>N</td>\n",
       "      <td>Y</td>\n",
       "      <td>Five Stars</td>\n",
       "      <td>Awesome</td>\n",
       "      <td>2015-08-31</td>\n",
       "      <td>awesome</td>\n",
       "      <td>0</td>\n",
       "    </tr>\n",
       "    <tr>\n",
       "      <th>2</th>\n",
       "      <td>US</td>\n",
       "      <td>45765011</td>\n",
       "      <td>R3YOOS71KM5M9</td>\n",
       "      <td>B00DNHLFQA</td>\n",
       "      <td>951665344</td>\n",
       "      <td>Command &amp; Conquer The Ultimate Collection [Ins...</td>\n",
       "      <td>Digital_Video_Games</td>\n",
       "      <td>5</td>\n",
       "      <td>0</td>\n",
       "      <td>0</td>\n",
       "      <td>N</td>\n",
       "      <td>Y</td>\n",
       "      <td>Hail to the great Yuri!</td>\n",
       "      <td>If you are prepping for the end of the world t...</td>\n",
       "      <td>2015-08-31</td>\n",
       "      <td>prepping end world one things installed youren...</td>\n",
       "      <td>0</td>\n",
       "    </tr>\n",
       "    <tr>\n",
       "      <th>3</th>\n",
       "      <td>US</td>\n",
       "      <td>113118</td>\n",
       "      <td>R3R14UATT3OUFU</td>\n",
       "      <td>B004RMK5QG</td>\n",
       "      <td>395682204</td>\n",
       "      <td>Playstation Plus Subscription</td>\n",
       "      <td>Digital_Video_Games</td>\n",
       "      <td>5</td>\n",
       "      <td>0</td>\n",
       "      <td>0</td>\n",
       "      <td>N</td>\n",
       "      <td>Y</td>\n",
       "      <td>Five Stars</td>\n",
       "      <td>Perfect</td>\n",
       "      <td>2015-08-31</td>\n",
       "      <td>perfect</td>\n",
       "      <td>0</td>\n",
       "    </tr>\n",
       "    <tr>\n",
       "      <th>4</th>\n",
       "      <td>US</td>\n",
       "      <td>22151364</td>\n",
       "      <td>RV2W9SGDNQA2C</td>\n",
       "      <td>B00G9BNLQE</td>\n",
       "      <td>640460561</td>\n",
       "      <td>Saints Row IV - Enter The Dominatrix [Online G...</td>\n",
       "      <td>Digital_Video_Games</td>\n",
       "      <td>5</td>\n",
       "      <td>0</td>\n",
       "      <td>0</td>\n",
       "      <td>N</td>\n",
       "      <td>Y</td>\n",
       "      <td>Five Stars</td>\n",
       "      <td>Awesome!</td>\n",
       "      <td>2015-08-31</td>\n",
       "      <td>awesome</td>\n",
       "      <td>0</td>\n",
       "    </tr>\n",
       "  </tbody>\n",
       "</table>\n",
       "</div>"
      ],
      "text/plain": [
       "  marketplace  customer_id       review_id  product_id  product_parent  \\\n",
       "0          US     21269168   RSH1OZ87OYK92  B013PURRZW       603406193   \n",
       "1          US       133437  R1WFOQ3N9BO65I  B00F4CEHNK       341969535   \n",
       "2          US     45765011   R3YOOS71KM5M9  B00DNHLFQA       951665344   \n",
       "3          US       113118  R3R14UATT3OUFU  B004RMK5QG       395682204   \n",
       "4          US     22151364   RV2W9SGDNQA2C  B00G9BNLQE       640460561   \n",
       "\n",
       "                                       product_title     product_category  \\\n",
       "0              Madden NFL 16 - Xbox One Digital Code  Digital_Video_Games   \n",
       "1                                Xbox Live Gift Card  Digital_Video_Games   \n",
       "2  Command & Conquer The Ultimate Collection [Ins...  Digital_Video_Games   \n",
       "3                      Playstation Plus Subscription  Digital_Video_Games   \n",
       "4  Saints Row IV - Enter The Dominatrix [Online G...  Digital_Video_Games   \n",
       "\n",
       "   star_rating  helpful_votes  total_votes vine verified_purchase  \\\n",
       "0            2              2            3    N                 N   \n",
       "1            5              0            0    N                 Y   \n",
       "2            5              0            0    N                 Y   \n",
       "3            5              0            0    N                 Y   \n",
       "4            5              0            0    N                 Y   \n",
       "\n",
       "                        review_headline  \\\n",
       "0  A slight improvement from last year.   \n",
       "1                            Five Stars   \n",
       "2               Hail to the great Yuri!   \n",
       "3                            Five Stars   \n",
       "4                            Five Stars   \n",
       "\n",
       "                                         review_body review_date  \\\n",
       "0  I keep buying madden every year hoping they ge...  2015-08-31   \n",
       "1                                            Awesome  2015-08-31   \n",
       "2  If you are prepping for the end of the world t...  2015-08-31   \n",
       "3                                            Perfect  2015-08-31   \n",
       "4                                           Awesome!  2015-08-31   \n",
       "\n",
       "                                         review_text  bad_product  \n",
       "0  keep buying madden every year hoping get back ...            1  \n",
       "1                                            awesome            0  \n",
       "2  prepping end world one things installed youren...            0  \n",
       "3                                            perfect            0  \n",
       "4                                            awesome            0  "
      ]
     },
     "execution_count": 8,
     "metadata": {},
     "output_type": "execute_result"
    }
   ],
   "source": [
    "#Creating a Target Variable with condition if the rating is less than 3, it will be a bad product otherwise not.\n",
    "df['bad_product'] = 0\n",
    "df.loc[df['star_rating'] <= 2, 'bad_product'] = 1\n",
    "df.head(5)"
   ]
  },
  {
   "cell_type": "markdown",
   "id": "01259ce3",
   "metadata": {},
   "source": [
    "#### Performing the Lemmetization"
   ]
  },
  {
   "cell_type": "code",
   "execution_count": 9,
   "id": "99512c3f",
   "metadata": {},
   "outputs": [
    {
     "data": {
      "text/html": [
       "<div>\n",
       "<style scoped>\n",
       "    .dataframe tbody tr th:only-of-type {\n",
       "        vertical-align: middle;\n",
       "    }\n",
       "\n",
       "    .dataframe tbody tr th {\n",
       "        vertical-align: top;\n",
       "    }\n",
       "\n",
       "    .dataframe thead th {\n",
       "        text-align: right;\n",
       "    }\n",
       "</style>\n",
       "<table border=\"1\" class=\"dataframe\">\n",
       "  <thead>\n",
       "    <tr style=\"text-align: right;\">\n",
       "      <th></th>\n",
       "      <th>marketplace</th>\n",
       "      <th>customer_id</th>\n",
       "      <th>review_id</th>\n",
       "      <th>product_id</th>\n",
       "      <th>product_parent</th>\n",
       "      <th>product_title</th>\n",
       "      <th>product_category</th>\n",
       "      <th>star_rating</th>\n",
       "      <th>helpful_votes</th>\n",
       "      <th>total_votes</th>\n",
       "      <th>vine</th>\n",
       "      <th>verified_purchase</th>\n",
       "      <th>review_headline</th>\n",
       "      <th>review_body</th>\n",
       "      <th>review_date</th>\n",
       "      <th>review_text</th>\n",
       "      <th>bad_product</th>\n",
       "    </tr>\n",
       "  </thead>\n",
       "  <tbody>\n",
       "    <tr>\n",
       "      <th>0</th>\n",
       "      <td>US</td>\n",
       "      <td>21269168</td>\n",
       "      <td>RSH1OZ87OYK92</td>\n",
       "      <td>B013PURRZW</td>\n",
       "      <td>603406193</td>\n",
       "      <td>Madden NFL 16 - Xbox One Digital Code</td>\n",
       "      <td>Digital_Video_Games</td>\n",
       "      <td>2</td>\n",
       "      <td>2</td>\n",
       "      <td>3</td>\n",
       "      <td>N</td>\n",
       "      <td>N</td>\n",
       "      <td>A slight improvement from last year.</td>\n",
       "      <td>I keep buying madden every year hoping they ge...</td>\n",
       "      <td>2015-08-31</td>\n",
       "      <td>keep buy madden every year hope get back footb...</td>\n",
       "      <td>1</td>\n",
       "    </tr>\n",
       "    <tr>\n",
       "      <th>1</th>\n",
       "      <td>US</td>\n",
       "      <td>133437</td>\n",
       "      <td>R1WFOQ3N9BO65I</td>\n",
       "      <td>B00F4CEHNK</td>\n",
       "      <td>341969535</td>\n",
       "      <td>Xbox Live Gift Card</td>\n",
       "      <td>Digital_Video_Games</td>\n",
       "      <td>5</td>\n",
       "      <td>0</td>\n",
       "      <td>0</td>\n",
       "      <td>N</td>\n",
       "      <td>Y</td>\n",
       "      <td>Five Stars</td>\n",
       "      <td>Awesome</td>\n",
       "      <td>2015-08-31</td>\n",
       "      <td>awesome</td>\n",
       "      <td>0</td>\n",
       "    </tr>\n",
       "    <tr>\n",
       "      <th>2</th>\n",
       "      <td>US</td>\n",
       "      <td>45765011</td>\n",
       "      <td>R3YOOS71KM5M9</td>\n",
       "      <td>B00DNHLFQA</td>\n",
       "      <td>951665344</td>\n",
       "      <td>Command &amp; Conquer The Ultimate Collection [Ins...</td>\n",
       "      <td>Digital_Video_Games</td>\n",
       "      <td>5</td>\n",
       "      <td>0</td>\n",
       "      <td>0</td>\n",
       "      <td>N</td>\n",
       "      <td>Y</td>\n",
       "      <td>Hail to the great Yuri!</td>\n",
       "      <td>If you are prepping for the end of the world t...</td>\n",
       "      <td>2015-08-31</td>\n",
       "      <td>preppe end world one thing instal yourendofthe...</td>\n",
       "      <td>0</td>\n",
       "    </tr>\n",
       "    <tr>\n",
       "      <th>3</th>\n",
       "      <td>US</td>\n",
       "      <td>113118</td>\n",
       "      <td>R3R14UATT3OUFU</td>\n",
       "      <td>B004RMK5QG</td>\n",
       "      <td>395682204</td>\n",
       "      <td>Playstation Plus Subscription</td>\n",
       "      <td>Digital_Video_Games</td>\n",
       "      <td>5</td>\n",
       "      <td>0</td>\n",
       "      <td>0</td>\n",
       "      <td>N</td>\n",
       "      <td>Y</td>\n",
       "      <td>Five Stars</td>\n",
       "      <td>Perfect</td>\n",
       "      <td>2015-08-31</td>\n",
       "      <td>perfect</td>\n",
       "      <td>0</td>\n",
       "    </tr>\n",
       "    <tr>\n",
       "      <th>4</th>\n",
       "      <td>US</td>\n",
       "      <td>22151364</td>\n",
       "      <td>RV2W9SGDNQA2C</td>\n",
       "      <td>B00G9BNLQE</td>\n",
       "      <td>640460561</td>\n",
       "      <td>Saints Row IV - Enter The Dominatrix [Online G...</td>\n",
       "      <td>Digital_Video_Games</td>\n",
       "      <td>5</td>\n",
       "      <td>0</td>\n",
       "      <td>0</td>\n",
       "      <td>N</td>\n",
       "      <td>Y</td>\n",
       "      <td>Five Stars</td>\n",
       "      <td>Awesome!</td>\n",
       "      <td>2015-08-31</td>\n",
       "      <td>awesome</td>\n",
       "      <td>0</td>\n",
       "    </tr>\n",
       "    <tr>\n",
       "      <th>5</th>\n",
       "      <td>US</td>\n",
       "      <td>22151364</td>\n",
       "      <td>R3CFKLIZ0I2KOB</td>\n",
       "      <td>B00IMIL498</td>\n",
       "      <td>621922192</td>\n",
       "      <td>Double Dragon: Neon [Online Game Code]</td>\n",
       "      <td>Digital_Video_Games</td>\n",
       "      <td>5</td>\n",
       "      <td>0</td>\n",
       "      <td>0</td>\n",
       "      <td>N</td>\n",
       "      <td>Y</td>\n",
       "      <td>Five Stars</td>\n",
       "      <td>Awesome!</td>\n",
       "      <td>2015-08-31</td>\n",
       "      <td>awesome</td>\n",
       "      <td>0</td>\n",
       "    </tr>\n",
       "    <tr>\n",
       "      <th>6</th>\n",
       "      <td>US</td>\n",
       "      <td>38426028</td>\n",
       "      <td>R1LRYU1V0T3O38</td>\n",
       "      <td>B00S00IJH8</td>\n",
       "      <td>215163395</td>\n",
       "      <td>Sims 4</td>\n",
       "      <td>Digital_Video_Games</td>\n",
       "      <td>4</td>\n",
       "      <td>0</td>\n",
       "      <td>0</td>\n",
       "      <td>N</td>\n",
       "      <td>Y</td>\n",
       "      <td>i like the new skills like herbalism in this</td>\n",
       "      <td>i like the new skills like herbalism in this, ...</td>\n",
       "      <td>2015-08-31</td>\n",
       "      <td>like new skill like herbalism camping fun also...</td>\n",
       "      <td>0</td>\n",
       "    </tr>\n",
       "    <tr>\n",
       "      <th>7</th>\n",
       "      <td>US</td>\n",
       "      <td>6057518</td>\n",
       "      <td>R44QKV6FE5CJ2</td>\n",
       "      <td>B004RMK4BC</td>\n",
       "      <td>384246568</td>\n",
       "      <td>Playstation Network Card</td>\n",
       "      <td>Digital_Video_Games</td>\n",
       "      <td>5</td>\n",
       "      <td>0</td>\n",
       "      <td>0</td>\n",
       "      <td>N</td>\n",
       "      <td>Y</td>\n",
       "      <td>Five Stars</td>\n",
       "      <td>Super</td>\n",
       "      <td>2015-08-31</td>\n",
       "      <td>super</td>\n",
       "      <td>0</td>\n",
       "    </tr>\n",
       "    <tr>\n",
       "      <th>8</th>\n",
       "      <td>US</td>\n",
       "      <td>20715661</td>\n",
       "      <td>R2TX1KLPXXXNYS</td>\n",
       "      <td>B00K59HKIQ</td>\n",
       "      <td>384246568</td>\n",
       "      <td>Playstation Network Card</td>\n",
       "      <td>Digital_Video_Games</td>\n",
       "      <td>5</td>\n",
       "      <td>0</td>\n",
       "      <td>0</td>\n",
       "      <td>N</td>\n",
       "      <td>Y</td>\n",
       "      <td>Easy &amp; Fast</td>\n",
       "      <td>Excellent, fast and secure!!!</td>\n",
       "      <td>2015-08-31</td>\n",
       "      <td>excellent fast secure</td>\n",
       "      <td>0</td>\n",
       "    </tr>\n",
       "    <tr>\n",
       "      <th>9</th>\n",
       "      <td>US</td>\n",
       "      <td>26540306</td>\n",
       "      <td>R1JEEW4C6R89BA</td>\n",
       "      <td>B00K59HKIQ</td>\n",
       "      <td>384246568</td>\n",
       "      <td>Playstation Network Card</td>\n",
       "      <td>Digital_Video_Games</td>\n",
       "      <td>5</td>\n",
       "      <td>0</td>\n",
       "      <td>0</td>\n",
       "      <td>N</td>\n",
       "      <td>Y</td>\n",
       "      <td>Five Stars</td>\n",
       "      <td>Ok</td>\n",
       "      <td>2015-08-31</td>\n",
       "      <td>ok</td>\n",
       "      <td>0</td>\n",
       "    </tr>\n",
       "    <tr>\n",
       "      <th>10</th>\n",
       "      <td>US</td>\n",
       "      <td>8926809</td>\n",
       "      <td>R3B3UHK1FO0ERS</td>\n",
       "      <td>B004774IPU</td>\n",
       "      <td>151985175</td>\n",
       "      <td>Sid Meier's Civilization V</td>\n",
       "      <td>Digital_Video_Games</td>\n",
       "      <td>1</td>\n",
       "      <td>0</td>\n",
       "      <td>0</td>\n",
       "      <td>N</td>\n",
       "      <td>N</td>\n",
       "      <td>I am still playing Civ 4 and love it. It's a s...</td>\n",
       "      <td>As has been written by so many others, I quick...</td>\n",
       "      <td>2015-08-31</td>\n",
       "      <td>write many other quickly lose interest game st...</td>\n",
       "      <td>1</td>\n",
       "    </tr>\n",
       "    <tr>\n",
       "      <th>11</th>\n",
       "      <td>US</td>\n",
       "      <td>31525534</td>\n",
       "      <td>R2GVSDHW513SS1</td>\n",
       "      <td>B002LIT9EC</td>\n",
       "      <td>695277014</td>\n",
       "      <td>Build-a-lot 4: Power Source [Download]</td>\n",
       "      <td>Digital_Video_Games</td>\n",
       "      <td>5</td>\n",
       "      <td>0</td>\n",
       "      <td>0</td>\n",
       "      <td>N</td>\n",
       "      <td>Y</td>\n",
       "      <td>Probably the best game for learning aspects of...</td>\n",
       "      <td>Probably the best game for learning aspects of...</td>\n",
       "      <td>2015-08-31</td>\n",
       "      <td>probably good game learning aspect real estate...</td>\n",
       "      <td>0</td>\n",
       "    </tr>\n",
       "    <tr>\n",
       "      <th>12</th>\n",
       "      <td>US</td>\n",
       "      <td>22151364</td>\n",
       "      <td>R1R1NT516PYT73</td>\n",
       "      <td>B008ALUBYQ</td>\n",
       "      <td>112160022</td>\n",
       "      <td>Borderlands 2</td>\n",
       "      <td>Digital_Video_Games</td>\n",
       "      <td>5</td>\n",
       "      <td>0</td>\n",
       "      <td>0</td>\n",
       "      <td>N</td>\n",
       "      <td>Y</td>\n",
       "      <td>Five Stars</td>\n",
       "      <td>Awesome!</td>\n",
       "      <td>2015-08-31</td>\n",
       "      <td>awesome</td>\n",
       "      <td>0</td>\n",
       "    </tr>\n",
       "    <tr>\n",
       "      <th>13</th>\n",
       "      <td>US</td>\n",
       "      <td>22977584</td>\n",
       "      <td>R3K624QDQKENN9</td>\n",
       "      <td>B010KYDNDG</td>\n",
       "      <td>835376637</td>\n",
       "      <td>Minecraft for PC/Mac [Online Game Code]</td>\n",
       "      <td>Digital_Video_Games</td>\n",
       "      <td>4</td>\n",
       "      <td>0</td>\n",
       "      <td>0</td>\n",
       "      <td>N</td>\n",
       "      <td>Y</td>\n",
       "      <td>FUN</td>\n",
       "      <td>COOL BUT IT LAGES ALOT OF THE TIME</td>\n",
       "      <td>2015-08-31</td>\n",
       "      <td>cool lage alot time</td>\n",
       "      <td>0</td>\n",
       "    </tr>\n",
       "    <tr>\n",
       "      <th>14</th>\n",
       "      <td>US</td>\n",
       "      <td>45765011</td>\n",
       "      <td>R1FOXH7PCJX3V</td>\n",
       "      <td>B008ALUBYQ</td>\n",
       "      <td>112160022</td>\n",
       "      <td>Borderlands 2</td>\n",
       "      <td>Digital_Video_Games</td>\n",
       "      <td>1</td>\n",
       "      <td>0</td>\n",
       "      <td>2</td>\n",
       "      <td>N</td>\n",
       "      <td>Y</td>\n",
       "      <td>One Star</td>\n",
       "      <td>Lames purchase I almost never made...</td>\n",
       "      <td>2015-08-31</td>\n",
       "      <td>lame purchase almost never make</td>\n",
       "      <td>1</td>\n",
       "    </tr>\n",
       "    <tr>\n",
       "      <th>15</th>\n",
       "      <td>US</td>\n",
       "      <td>2239522</td>\n",
       "      <td>RA1246M1OMDWC</td>\n",
       "      <td>B004RMK4P8</td>\n",
       "      <td>384246568</td>\n",
       "      <td>Playstation Network Card</td>\n",
       "      <td>Digital_Video_Games</td>\n",
       "      <td>5</td>\n",
       "      <td>0</td>\n",
       "      <td>0</td>\n",
       "      <td>N</td>\n",
       "      <td>Y</td>\n",
       "      <td>Five Stars</td>\n",
       "      <td>Great</td>\n",
       "      <td>2015-08-31</td>\n",
       "      <td>great</td>\n",
       "      <td>0</td>\n",
       "    </tr>\n",
       "    <tr>\n",
       "      <th>16</th>\n",
       "      <td>US</td>\n",
       "      <td>48805811</td>\n",
       "      <td>R2I9SXWB0PAEKQ</td>\n",
       "      <td>B004RMK5QG</td>\n",
       "      <td>395682204</td>\n",
       "      <td>Playstation Plus Subscription</td>\n",
       "      <td>Digital_Video_Games</td>\n",
       "      <td>5</td>\n",
       "      <td>0</td>\n",
       "      <td>0</td>\n",
       "      <td>N</td>\n",
       "      <td>Y</td>\n",
       "      <td>Five Stars</td>\n",
       "      <td>Awesome!!!</td>\n",
       "      <td>2015-08-31</td>\n",
       "      <td>awesome</td>\n",
       "      <td>0</td>\n",
       "    </tr>\n",
       "    <tr>\n",
       "      <th>17</th>\n",
       "      <td>US</td>\n",
       "      <td>18646481</td>\n",
       "      <td>R3UGL544NA0G9C</td>\n",
       "      <td>B00BI16Z22</td>\n",
       "      <td>552981447</td>\n",
       "      <td>Brink of Consciousness: Lonely Hearts Murders ...</td>\n",
       "      <td>Digital_Video_Games</td>\n",
       "      <td>4</td>\n",
       "      <td>0</td>\n",
       "      <td>0</td>\n",
       "      <td>N</td>\n",
       "      <td>Y</td>\n",
       "      <td>worth playing</td>\n",
       "      <td>pretty good but not as good as the first Brink...</td>\n",
       "      <td>2015-08-31</td>\n",
       "      <td>pretty good good first brink consciousness gam...</td>\n",
       "      <td>0</td>\n",
       "    </tr>\n",
       "    <tr>\n",
       "      <th>18</th>\n",
       "      <td>US</td>\n",
       "      <td>10310935</td>\n",
       "      <td>R1CBA4Y92GVAVM</td>\n",
       "      <td>B004VSTQ2A</td>\n",
       "      <td>232803743</td>\n",
       "      <td>Xbox Live Subscription</td>\n",
       "      <td>Digital_Video_Games</td>\n",
       "      <td>5</td>\n",
       "      <td>0</td>\n",
       "      <td>0</td>\n",
       "      <td>N</td>\n",
       "      <td>Y</td>\n",
       "      <td>Five Stars</td>\n",
       "      <td>What can I say...xbox live!</td>\n",
       "      <td>2015-08-31</td>\n",
       "      <td>sayxbox live</td>\n",
       "      <td>0</td>\n",
       "    </tr>\n",
       "    <tr>\n",
       "      <th>19</th>\n",
       "      <td>US</td>\n",
       "      <td>5587610</td>\n",
       "      <td>R24NEKNR01VEHU</td>\n",
       "      <td>B00GAC1D2G</td>\n",
       "      <td>384246568</td>\n",
       "      <td>Playstation Network Card</td>\n",
       "      <td>Digital_Video_Games</td>\n",
       "      <td>5</td>\n",
       "      <td>0</td>\n",
       "      <td>0</td>\n",
       "      <td>N</td>\n",
       "      <td>Y</td>\n",
       "      <td>Just amazing</td>\n",
       "      <td>Very fast to receive, and ofc a trustworthy an...</td>\n",
       "      <td>2015-08-31</td>\n",
       "      <td>fast receive ofc trustworthy safe place buy us...</td>\n",
       "      <td>0</td>\n",
       "    </tr>\n",
       "  </tbody>\n",
       "</table>\n",
       "</div>"
      ],
      "text/plain": [
       "   marketplace  customer_id       review_id  product_id  product_parent  \\\n",
       "0           US     21269168   RSH1OZ87OYK92  B013PURRZW       603406193   \n",
       "1           US       133437  R1WFOQ3N9BO65I  B00F4CEHNK       341969535   \n",
       "2           US     45765011   R3YOOS71KM5M9  B00DNHLFQA       951665344   \n",
       "3           US       113118  R3R14UATT3OUFU  B004RMK5QG       395682204   \n",
       "4           US     22151364   RV2W9SGDNQA2C  B00G9BNLQE       640460561   \n",
       "5           US     22151364  R3CFKLIZ0I2KOB  B00IMIL498       621922192   \n",
       "6           US     38426028  R1LRYU1V0T3O38  B00S00IJH8       215163395   \n",
       "7           US      6057518   R44QKV6FE5CJ2  B004RMK4BC       384246568   \n",
       "8           US     20715661  R2TX1KLPXXXNYS  B00K59HKIQ       384246568   \n",
       "9           US     26540306  R1JEEW4C6R89BA  B00K59HKIQ       384246568   \n",
       "10          US      8926809  R3B3UHK1FO0ERS  B004774IPU       151985175   \n",
       "11          US     31525534  R2GVSDHW513SS1  B002LIT9EC       695277014   \n",
       "12          US     22151364  R1R1NT516PYT73  B008ALUBYQ       112160022   \n",
       "13          US     22977584  R3K624QDQKENN9  B010KYDNDG       835376637   \n",
       "14          US     45765011   R1FOXH7PCJX3V  B008ALUBYQ       112160022   \n",
       "15          US      2239522   RA1246M1OMDWC  B004RMK4P8       384246568   \n",
       "16          US     48805811  R2I9SXWB0PAEKQ  B004RMK5QG       395682204   \n",
       "17          US     18646481  R3UGL544NA0G9C  B00BI16Z22       552981447   \n",
       "18          US     10310935  R1CBA4Y92GVAVM  B004VSTQ2A       232803743   \n",
       "19          US      5587610  R24NEKNR01VEHU  B00GAC1D2G       384246568   \n",
       "\n",
       "                                        product_title     product_category  \\\n",
       "0               Madden NFL 16 - Xbox One Digital Code  Digital_Video_Games   \n",
       "1                                 Xbox Live Gift Card  Digital_Video_Games   \n",
       "2   Command & Conquer The Ultimate Collection [Ins...  Digital_Video_Games   \n",
       "3                       Playstation Plus Subscription  Digital_Video_Games   \n",
       "4   Saints Row IV - Enter The Dominatrix [Online G...  Digital_Video_Games   \n",
       "5              Double Dragon: Neon [Online Game Code]  Digital_Video_Games   \n",
       "6                                              Sims 4  Digital_Video_Games   \n",
       "7                            Playstation Network Card  Digital_Video_Games   \n",
       "8                            Playstation Network Card  Digital_Video_Games   \n",
       "9                            Playstation Network Card  Digital_Video_Games   \n",
       "10                         Sid Meier's Civilization V  Digital_Video_Games   \n",
       "11             Build-a-lot 4: Power Source [Download]  Digital_Video_Games   \n",
       "12                                      Borderlands 2  Digital_Video_Games   \n",
       "13            Minecraft for PC/Mac [Online Game Code]  Digital_Video_Games   \n",
       "14                                      Borderlands 2  Digital_Video_Games   \n",
       "15                           Playstation Network Card  Digital_Video_Games   \n",
       "16                      Playstation Plus Subscription  Digital_Video_Games   \n",
       "17  Brink of Consciousness: Lonely Hearts Murders ...  Digital_Video_Games   \n",
       "18                             Xbox Live Subscription  Digital_Video_Games   \n",
       "19                           Playstation Network Card  Digital_Video_Games   \n",
       "\n",
       "    star_rating  helpful_votes  total_votes vine verified_purchase  \\\n",
       "0             2              2            3    N                 N   \n",
       "1             5              0            0    N                 Y   \n",
       "2             5              0            0    N                 Y   \n",
       "3             5              0            0    N                 Y   \n",
       "4             5              0            0    N                 Y   \n",
       "5             5              0            0    N                 Y   \n",
       "6             4              0            0    N                 Y   \n",
       "7             5              0            0    N                 Y   \n",
       "8             5              0            0    N                 Y   \n",
       "9             5              0            0    N                 Y   \n",
       "10            1              0            0    N                 N   \n",
       "11            5              0            0    N                 Y   \n",
       "12            5              0            0    N                 Y   \n",
       "13            4              0            0    N                 Y   \n",
       "14            1              0            2    N                 Y   \n",
       "15            5              0            0    N                 Y   \n",
       "16            5              0            0    N                 Y   \n",
       "17            4              0            0    N                 Y   \n",
       "18            5              0            0    N                 Y   \n",
       "19            5              0            0    N                 Y   \n",
       "\n",
       "                                      review_headline  \\\n",
       "0                A slight improvement from last year.   \n",
       "1                                          Five Stars   \n",
       "2                             Hail to the great Yuri!   \n",
       "3                                          Five Stars   \n",
       "4                                          Five Stars   \n",
       "5                                          Five Stars   \n",
       "6        i like the new skills like herbalism in this   \n",
       "7                                          Five Stars   \n",
       "8                                         Easy & Fast   \n",
       "9                                          Five Stars   \n",
       "10  I am still playing Civ 4 and love it. It's a s...   \n",
       "11  Probably the best game for learning aspects of...   \n",
       "12                                         Five Stars   \n",
       "13                                                FUN   \n",
       "14                                           One Star   \n",
       "15                                         Five Stars   \n",
       "16                                         Five Stars   \n",
       "17                                      worth playing   \n",
       "18                                         Five Stars   \n",
       "19                                       Just amazing   \n",
       "\n",
       "                                          review_body review_date  \\\n",
       "0   I keep buying madden every year hoping they ge...  2015-08-31   \n",
       "1                                             Awesome  2015-08-31   \n",
       "2   If you are prepping for the end of the world t...  2015-08-31   \n",
       "3                                             Perfect  2015-08-31   \n",
       "4                                            Awesome!  2015-08-31   \n",
       "5                                            Awesome!  2015-08-31   \n",
       "6   i like the new skills like herbalism in this, ...  2015-08-31   \n",
       "7                                               Super  2015-08-31   \n",
       "8                       Excellent, fast and secure!!!  2015-08-31   \n",
       "9                                                  Ok  2015-08-31   \n",
       "10  As has been written by so many others, I quick...  2015-08-31   \n",
       "11  Probably the best game for learning aspects of...  2015-08-31   \n",
       "12                                           Awesome!  2015-08-31   \n",
       "13                 COOL BUT IT LAGES ALOT OF THE TIME  2015-08-31   \n",
       "14              Lames purchase I almost never made...  2015-08-31   \n",
       "15                                              Great  2015-08-31   \n",
       "16                                         Awesome!!!  2015-08-31   \n",
       "17  pretty good but not as good as the first Brink...  2015-08-31   \n",
       "18                        What can I say...xbox live!  2015-08-31   \n",
       "19  Very fast to receive, and ofc a trustworthy an...  2015-08-31   \n",
       "\n",
       "                                          review_text  bad_product  \n",
       "0   keep buy madden every year hope get back footb...            1  \n",
       "1                                             awesome            0  \n",
       "2   preppe end world one thing instal yourendofthe...            0  \n",
       "3                                             perfect            0  \n",
       "4                                             awesome            0  \n",
       "5                                             awesome            0  \n",
       "6   like new skill like herbalism camping fun also...            0  \n",
       "7                                               super            0  \n",
       "8                               excellent fast secure            0  \n",
       "9                                                  ok            0  \n",
       "10  write many other quickly lose interest game st...            1  \n",
       "11  probably good game learning aspect real estate...            0  \n",
       "12                                            awesome            0  \n",
       "13                                cool lage alot time            0  \n",
       "14                    lame purchase almost never make            1  \n",
       "15                                              great            0  \n",
       "16                                            awesome            0  \n",
       "17  pretty good good first brink consciousness gam...            0  \n",
       "18                                       sayxbox live            0  \n",
       "19  fast receive ofc trustworthy safe place buy us...            0  "
      ]
     },
     "execution_count": 9,
     "metadata": {},
     "output_type": "execute_result"
    }
   ],
   "source": [
    "#Lemmatization\n",
    "def Lemm(comment):\n",
    "    doc = nlp(comment)\n",
    "    return \" \".join([token.lemma_ for token in doc])\n",
    "df['review_text']= df['review_text'].apply(Lemm)\n",
    "df.head(20)"
   ]
  },
  {
   "cell_type": "code",
   "execution_count": 10,
   "id": "cc0c22ee",
   "metadata": {},
   "outputs": [],
   "source": [
    "df_final = df[[\"review_text\",\"bad_product\"]]"
   ]
  },
  {
   "cell_type": "code",
   "execution_count": 11,
   "id": "7db777b1",
   "metadata": {},
   "outputs": [
    {
     "data": {
      "text/html": [
       "<div>\n",
       "<style scoped>\n",
       "    .dataframe tbody tr th:only-of-type {\n",
       "        vertical-align: middle;\n",
       "    }\n",
       "\n",
       "    .dataframe tbody tr th {\n",
       "        vertical-align: top;\n",
       "    }\n",
       "\n",
       "    .dataframe thead th {\n",
       "        text-align: right;\n",
       "    }\n",
       "</style>\n",
       "<table border=\"1\" class=\"dataframe\">\n",
       "  <thead>\n",
       "    <tr style=\"text-align: right;\">\n",
       "      <th></th>\n",
       "      <th>review_text</th>\n",
       "      <th>bad_product</th>\n",
       "    </tr>\n",
       "  </thead>\n",
       "  <tbody>\n",
       "    <tr>\n",
       "      <th>0</th>\n",
       "      <td>keep buy madden every year hope get back footb...</td>\n",
       "      <td>1</td>\n",
       "    </tr>\n",
       "    <tr>\n",
       "      <th>1</th>\n",
       "      <td>awesome</td>\n",
       "      <td>0</td>\n",
       "    </tr>\n",
       "    <tr>\n",
       "      <th>2</th>\n",
       "      <td>preppe end world one thing instal yourendofthe...</td>\n",
       "      <td>0</td>\n",
       "    </tr>\n",
       "    <tr>\n",
       "      <th>3</th>\n",
       "      <td>perfect</td>\n",
       "      <td>0</td>\n",
       "    </tr>\n",
       "    <tr>\n",
       "      <th>4</th>\n",
       "      <td>awesome</td>\n",
       "      <td>0</td>\n",
       "    </tr>\n",
       "    <tr>\n",
       "      <th>...</th>\n",
       "      <td>...</td>\n",
       "      <td>...</td>\n",
       "    </tr>\n",
       "    <tr>\n",
       "      <th>144719</th>\n",
       "      <td>worry due review see do not time wait package ...</td>\n",
       "      <td>0</td>\n",
       "    </tr>\n",
       "    <tr>\n",
       "      <th>144720</th>\n",
       "      <td>download christmas present kid I ve spend well...</td>\n",
       "      <td>1</td>\n",
       "    </tr>\n",
       "    <tr>\n",
       "      <th>144721</th>\n",
       "      <td>previous reviewer correct noting install take ...</td>\n",
       "      <td>0</td>\n",
       "    </tr>\n",
       "    <tr>\n",
       "      <th>144722</th>\n",
       "      <td>download son birthday yesterday intend install...</td>\n",
       "      <td>1</td>\n",
       "    </tr>\n",
       "    <tr>\n",
       "      <th>144723</th>\n",
       "      <td>game making wonderful turn base strategy game ...</td>\n",
       "      <td>0</td>\n",
       "    </tr>\n",
       "  </tbody>\n",
       "</table>\n",
       "<p>144722 rows × 2 columns</p>\n",
       "</div>"
      ],
      "text/plain": [
       "                                              review_text  bad_product\n",
       "0       keep buy madden every year hope get back footb...            1\n",
       "1                                                 awesome            0\n",
       "2       preppe end world one thing instal yourendofthe...            0\n",
       "3                                                 perfect            0\n",
       "4                                                 awesome            0\n",
       "...                                                   ...          ...\n",
       "144719  worry due review see do not time wait package ...            0\n",
       "144720  download christmas present kid I ve spend well...            1\n",
       "144721  previous reviewer correct noting install take ...            0\n",
       "144722  download son birthday yesterday intend install...            1\n",
       "144723  game making wonderful turn base strategy game ...            0\n",
       "\n",
       "[144722 rows x 2 columns]"
      ]
     },
     "execution_count": 11,
     "metadata": {},
     "output_type": "execute_result"
    }
   ],
   "source": [
    "df_final"
   ]
  },
  {
   "cell_type": "markdown",
   "id": "7b3b050d",
   "metadata": {},
   "source": [
    "#### Splitting the data"
   ]
  },
  {
   "cell_type": "code",
   "execution_count": 13,
   "id": "9269cea6",
   "metadata": {},
   "outputs": [
    {
     "name": "stdout",
     "output_type": "stream",
     "text": [
      "(115777,) (115777,)\n",
      "(28945,) (28945,)\n"
     ]
    }
   ],
   "source": [
    "X_train, X_test, Y_train, Y_test = train_test_split(df_final['review_text'],df_final['bad_product'], test_size = 0.20, random_state=42)\n",
    "print(X_train.shape, Y_train.shape)\n",
    "print(X_test.shape, Y_test.shape)"
   ]
  },
  {
   "cell_type": "markdown",
   "id": "67772e37",
   "metadata": {},
   "source": [
    "#### Converting the train text into encoded labels"
   ]
  },
  {
   "cell_type": "code",
   "execution_count": 14,
   "id": "8bdec6a9",
   "metadata": {},
   "outputs": [],
   "source": [
    "review = X_train.values\n",
    "tokenizer = Tokenizer(num_words=5000)\n",
    "tokenizer.fit_on_texts(review)\n",
    "vocab_size = len(tokenizer.word_index) + 1\n",
    "encoded_docs = tokenizer.texts_to_sequences(review)\n",
    "padded_sequence = pad_sequences(encoded_docs, maxlen=200)"
   ]
  },
  {
   "cell_type": "code",
   "execution_count": 15,
   "id": "1996e65e",
   "metadata": {},
   "outputs": [],
   "source": [
    "with open('tokenizer.pickle', 'wb') as handle:\n",
    "      pickle.dump(tokenizer, handle, protocol=pickle.HIGHEST_PROTOCOL)"
   ]
  },
  {
   "cell_type": "code",
   "execution_count": 16,
   "id": "5feacb7e",
   "metadata": {},
   "outputs": [
    {
     "name": "stdout",
     "output_type": "stream",
     "text": [
      "expect plus cumlate score one game next\n",
      "[159, 272, 641, 9, 1, 201]\n"
     ]
    }
   ],
   "source": [
    "print(review[0])\n",
    "print(encoded_docs[0])"
   ]
  },
  {
   "cell_type": "code",
   "execution_count": 17,
   "id": "5fffcc21",
   "metadata": {},
   "outputs": [
    {
     "name": "stdout",
     "output_type": "stream",
     "text": [
      "[  0   0   0   0   0   0   0   0   0   0   0   0   0   0   0   0   0   0\n",
      "   0   0   0   0   0   0   0   0   0   0   0   0   0   0   0   0   0   0\n",
      "   0   0   0   0   0   0   0   0   0   0   0   0   0   0   0   0   0   0\n",
      "   0   0   0   0   0   0   0   0   0   0   0   0   0   0   0   0   0   0\n",
      "   0   0   0   0   0   0   0   0   0   0   0   0   0   0   0   0   0   0\n",
      "   0   0   0   0   0   0   0   0   0   0   0   0   0   0   0   0   0   0\n",
      "   0   0   0   0   0   0   0   0   0   0   0   0   0   0   0   0   0   0\n",
      "   0   0   0   0   0   0   0   0   0   0   0   0   0   0   0   0   0   0\n",
      "   0   0   0   0   0   0   0   0   0   0   0   0   0   0   0   0   0   0\n",
      "   0   0   0   0   0   0   0   0   0   0   0   0   0   0   0   0   0   0\n",
      "   0   0   0   0   0   0   0   0   0   0   0   0   0   0 159 272 641   9\n",
      "   1 201]\n"
     ]
    }
   ],
   "source": [
    "print(padded_sequence[0])"
   ]
  },
  {
   "cell_type": "code",
   "execution_count": 18,
   "id": "7e77d98d",
   "metadata": {},
   "outputs": [],
   "source": [
    "X_re = padded_sequence\n",
    "Y_re = Y_train.values\n",
    "#Y_re=df_final.bad_product.factorize()"
   ]
  },
  {
   "cell_type": "code",
   "execution_count": null,
   "id": "7d42dcaf",
   "metadata": {},
   "outputs": [],
   "source": []
  },
  {
   "cell_type": "code",
   "execution_count": null,
   "id": "845443c3",
   "metadata": {},
   "outputs": [],
   "source": []
  },
  {
   "cell_type": "code",
   "execution_count": 21,
   "id": "0960862e",
   "metadata": {},
   "outputs": [
    {
     "data": {
      "text/plain": [
       "(array([0, 0, 1, ..., 1, 1, 1], dtype=int64),\n",
       " Int64Index([1, 0], dtype='int64'))"
      ]
     },
     "execution_count": 21,
     "metadata": {},
     "output_type": "execute_result"
    }
   ],
   "source": [
    "product_label = Y_train.factorize()\n",
    "product_label"
   ]
  },
  {
   "cell_type": "code",
   "execution_count": null,
   "id": "01081b86",
   "metadata": {},
   "outputs": [],
   "source": []
  },
  {
   "cell_type": "code",
   "execution_count": null,
   "id": "52a7c188",
   "metadata": {},
   "outputs": [],
   "source": []
  },
  {
   "cell_type": "markdown",
   "id": "9bbe5ca8",
   "metadata": {},
   "source": []
  },
  {
   "cell_type": "code",
   "execution_count": null,
   "id": "92d99244",
   "metadata": {},
   "outputs": [],
   "source": []
  },
  {
   "cell_type": "code",
   "execution_count": null,
   "id": "96f0aa37",
   "metadata": {},
   "outputs": [],
   "source": []
  },
  {
   "cell_type": "code",
   "execution_count": null,
   "id": "8de3f45c",
   "metadata": {},
   "outputs": [],
   "source": []
  },
  {
   "cell_type": "markdown",
   "id": "a1e50e0d",
   "metadata": {},
   "source": [
    "## LSTM "
   ]
  },
  {
   "cell_type": "code",
   "execution_count": 150,
   "id": "bf60e211",
   "metadata": {},
   "outputs": [],
   "source": []
  },
  {
   "cell_type": "code",
   "execution_count": 22,
   "id": "97029177",
   "metadata": {},
   "outputs": [
    {
     "name": "stdout",
     "output_type": "stream",
     "text": [
      "Model: \"sequential\"\n",
      "_________________________________________________________________\n",
      " Layer (type)                Output Shape              Param #   \n",
      "=================================================================\n",
      " embedding (Embedding)       (None, 200, 32)           2647040   \n",
      "                                                                 \n",
      " spatial_dropout1d (SpatialD  (None, 200, 32)          0         \n",
      " ropout1D)                                                       \n",
      "                                                                 \n",
      " lstm (LSTM)                 (None, 50)                16600     \n",
      "                                                                 \n",
      " dropout (Dropout)           (None, 50)                0         \n",
      "                                                                 \n",
      " dense (Dense)               (None, 1)                 51        \n",
      "                                                                 \n",
      "=================================================================\n",
      "Total params: 2,663,691\n",
      "Trainable params: 2,663,691\n",
      "Non-trainable params: 0\n",
      "_________________________________________________________________\n",
      "None\n"
     ]
    }
   ],
   "source": [
    "embedding_vector_length = 32\n",
    "model = Sequential()\n",
    "model.add(Embedding(vocab_size,embedding_vector_length,input_length=200))\n",
    "model.add(SpatialDropout1D(0.25))\n",
    "model.add(LSTM(50,dropout=0.5,recurrent_dropout=0.5))\n",
    "model.add(Dropout(0.2))\n",
    "model.add(Dense(1,activation='sigmoid'))\n",
    "model.compile(loss='binary_crossentropy',optimizer='adam',metrics=['accuracy'])\n",
    "print(model.summary())"
   ]
  },
  {
   "cell_type": "code",
   "execution_count": 23,
   "id": "9ff3b03e",
   "metadata": {},
   "outputs": [],
   "source": [
    "checkpoint = ModelCheckpoint(\"my_h5515_model_text.h5\",monitor='val_accuracy',save_weights_only=True,mode='max',verbose=1)\n",
    "callbacks = [checkpoint]"
   ]
  },
  {
   "cell_type": "code",
   "execution_count": 26,
   "id": "7d409088",
   "metadata": {},
   "outputs": [
    {
     "name": "stdout",
     "output_type": "stream",
     "text": [
      "Epoch 1/5\n",
      "2895/2895 [==============================] - ETA: 0s - loss: 0.3019 - accuracy: 0.8755\n",
      "Epoch 1: saving model to my_h5515_model_text.h5\n",
      "2895/2895 [==============================] - 474s 163ms/step - loss: 0.3019 - accuracy: 0.8755 - val_loss: 0.2564 - val_accuracy: 0.8978\n",
      "Epoch 2/5\n",
      "2895/2895 [==============================] - ETA: 0s - loss: 0.2481 - accuracy: 0.8992\n",
      "Epoch 2: saving model to my_h5515_model_text.h5\n",
      "2895/2895 [==============================] - 474s 164ms/step - loss: 0.2481 - accuracy: 0.8992 - val_loss: 0.2474 - val_accuracy: 0.8987\n",
      "Epoch 3/5\n",
      "2895/2895 [==============================] - ETA: 0s - loss: 0.2342 - accuracy: 0.9057\n",
      "Epoch 3: saving model to my_h5515_model_text.h5\n",
      "2895/2895 [==============================] - 470s 162ms/step - loss: 0.2342 - accuracy: 0.9057 - val_loss: 0.2482 - val_accuracy: 0.8996\n",
      "Epoch 4/5\n",
      "2895/2895 [==============================] - ETA: 0s - loss: 0.2265 - accuracy: 0.9084\n",
      "Epoch 4: saving model to my_h5515_model_text.h5\n",
      "2895/2895 [==============================] - 470s 162ms/step - loss: 0.2265 - accuracy: 0.9084 - val_loss: 0.2451 - val_accuracy: 0.9012\n",
      "Epoch 5/5\n",
      "2895/2895 [==============================] - ETA: 0s - loss: 0.2199 - accuracy: 0.9112\n",
      "Epoch 5: saving model to my_h5515_model_text.h5\n",
      "2895/2895 [==============================] - 468s 162ms/step - loss: 0.2199 - accuracy: 0.9112 - val_loss: 0.2400 - val_accuracy: 0.9011\n"
     ]
    }
   ],
   "source": [
    "history= model.fit(X_re,Y_re,validation_split=0.2,epochs=5,batch_size=32,callbacks=callbacks)"
   ]
  },
  {
   "cell_type": "code",
   "execution_count": 27,
   "id": "2ff61cc5",
   "metadata": {},
   "outputs": [],
   "source": [
    "#Saving the Model\n",
    "model_json = model.to_json()\n",
    "with open(\"model_h5515_text.json\",\"w\") as json_file:\n",
    "    json_file.write(model_json)\n"
   ]
  },
  {
   "cell_type": "code",
   "execution_count": 30,
   "id": "188344af",
   "metadata": {},
   "outputs": [],
   "source": [
    "#TO open the model without training\n",
    "\n",
    "# to open \n",
    "from keras.models import model_from_json\n",
    "json_file = open('model_h5515_text.json','r')\n",
    "loaded_model_json = json_file.read()\n",
    "json_file.close()\n",
    "loaded_model = model_from_json(loaded_model_json)\n",
    "loaded_model.load_weights(\"my_h5515_model_text.h5\")\n"
   ]
  },
  {
   "cell_type": "markdown",
   "id": "c08debe7",
   "metadata": {},
   "source": [
    "#### Processing the test data"
   ]
  },
  {
   "cell_type": "code",
   "execution_count": 31,
   "id": "5f11f37d",
   "metadata": {},
   "outputs": [],
   "source": [
    "test_reviews = X_test.values\n",
    "encoded_docs = tokenizer.texts_to_sequences(test_reviews)\n",
    "padded_sequence = pad_sequences(encoded_docs, maxlen=200)\n",
    "test_data = padded_sequence"
   ]
  },
  {
   "cell_type": "code",
   "execution_count": 32,
   "id": "3ff21c12",
   "metadata": {},
   "outputs": [
    {
     "name": "stdout",
     "output_type": "stream",
     "text": [
      "905/905 [==============================] - 19s 21ms/step\n"
     ]
    }
   ],
   "source": [
    "predict_x=loaded_model.predict(test_data) \n",
    "\n",
    "\n",
    "#Y_test\n",
    "classes_x=np.rint(predict_x)\n",
    "\n",
    "Y_pred = classes_x.flatten()\n"
   ]
  },
  {
   "cell_type": "code",
   "execution_count": 33,
   "id": "9e899de1",
   "metadata": {},
   "outputs": [
    {
     "name": "stdout",
     "output_type": "stream",
     "text": [
      "Accuracy-: 0.9022974607013301\n",
      "Confusion Matrix:\n",
      " [[21235  1102]\n",
      " [ 1726  4882]]\n",
      "Classification Report:\n",
      "               precision    recall  f1-score   support\n",
      "\n",
      "           0       0.92      0.95      0.94     22337\n",
      "           1       0.82      0.74      0.78      6608\n",
      "\n",
      "    accuracy                           0.90     28945\n",
      "   macro avg       0.87      0.84      0.86     28945\n",
      "weighted avg       0.90      0.90      0.90     28945\n",
      "\n"
     ]
    }
   ],
   "source": [
    "print(\"Accuracy-:\",accuracy_score(Y_test.values,Y_pred))\n",
    "print(\"Confusion Matrix:\\n\",confusion_matrix(Y_test.values, Y_pred))\n",
    "print(\"Classification Report:\\n\",classification_report(Y_test.values,Y_pred))"
   ]
  },
  {
   "cell_type": "code",
   "execution_count": null,
   "id": "56b9a026",
   "metadata": {},
   "outputs": [],
   "source": []
  },
  {
   "cell_type": "code",
   "execution_count": 34,
   "id": "20f49fee",
   "metadata": {},
   "outputs": [
    {
     "data": {
      "image/png": "[encoded data removed]",
      "text/plain": [
       "<Figure size 432x288 with 1 Axes>"
      ]
     },
     "metadata": {
      "needs_background": "light"
     },
     "output_type": "display_data"
    },
    {
     "data": {
      "text/plain": [
       "<Figure size 432x288 with 0 Axes>"
      ]
     },
     "metadata": {},
     "output_type": "display_data"
    }
   ],
   "source": [
    "plt.plot(history.history['accuracy'], label='acc')\n",
    "plt.plot(history.history['val_accuracy'], label='val_acc')\n",
    "plt.legend()\n",
    "plt.show()\n",
    "plt.savefig(\"Accuracy plot.jpg\")"
   ]
  },
  {
   "cell_type": "code",
   "execution_count": 35,
   "id": "39e85f99",
   "metadata": {},
   "outputs": [
    {
     "data": {
      "image/png": "[encoded data removed]",
      "text/plain": [
       "<Figure size 432x288 with 1 Axes>"
      ]
     },
     "metadata": {
      "needs_background": "light"
     },
     "output_type": "display_data"
    },
    {
     "data": {
      "text/plain": [
       "<Figure size 432x288 with 0 Axes>"
      ]
     },
     "metadata": {},
     "output_type": "display_data"
    }
   ],
   "source": [
    "plt.plot(history.history['loss'], label='loss')\n",
    "plt.plot(history.history['val_loss'], label='val_loss')\n",
    "plt.legend()\n",
    "plt.show()\n",
    "plt.savefig(\"Loss plot.jpg\")"
   ]
  },
  {
   "cell_type": "code",
   "execution_count": null,
   "id": "d1bda280",
   "metadata": {},
   "outputs": [],
   "source": []
  },
  {
   "cell_type": "markdown",
   "id": "c15abd10",
   "metadata": {},
   "source": [
    "### Trying to balance the data to improve accuracy "
   ]
  },
  {
   "cell_type": "code",
   "execution_count": 37,
   "id": "51d2978c",
   "metadata": {},
   "outputs": [],
   "source": [
    "\n",
    "from imblearn.over_sampling import SMOTE\n",
    "x,y = SMOTE().fit_resample(X_re,Y_train)"
   ]
  },
  {
   "cell_type": "code",
   "execution_count": 38,
   "id": "eadecae7",
   "metadata": {},
   "outputs": [
    {
     "data": {
      "text/plain": [
       "array([[    0, 89811],\n",
       "       [    1, 89811]], dtype=int64)"
      ]
     },
     "execution_count": 38,
     "metadata": {},
     "output_type": "execute_result"
    }
   ],
   "source": [
    "np.array(np.unique(y, return_counts=True)).T"
   ]
  },
  {
   "cell_type": "code",
   "execution_count": 39,
   "id": "a05aa7ce",
   "metadata": {},
   "outputs": [
    {
     "name": "stdout",
     "output_type": "stream",
     "text": [
      "Model: \"sequential_1\"\n",
      "_________________________________________________________________\n",
      " Layer (type)                Output Shape              Param #   \n",
      "=================================================================\n",
      " embedding_1 (Embedding)     (None, 200, 32)           2647040   \n",
      "                                                                 \n",
      " spatial_dropout1d_1 (Spatia  (None, 200, 32)          0         \n",
      " lDropout1D)                                                     \n",
      "                                                                 \n",
      " lstm_1 (LSTM)               (None, 50)                16600     \n",
      "                                                                 \n",
      " dropout_1 (Dropout)         (None, 50)                0         \n",
      "                                                                 \n",
      " dense_1 (Dense)             (None, 1)                 51        \n",
      "                                                                 \n",
      "=================================================================\n",
      "Total params: 2,663,691\n",
      "Trainable params: 2,663,691\n",
      "Non-trainable params: 0\n",
      "_________________________________________________________________\n",
      "None\n"
     ]
    }
   ],
   "source": [
    "embedding_vector_length = 32\n",
    "model = Sequential()\n",
    "model.add(Embedding(vocab_size,embedding_vector_length,input_length=200))\n",
    "model.add(SpatialDropout1D(0.25))\n",
    "model.add(LSTM(50,dropout=0.5,recurrent_dropout=0.5))\n",
    "model.add(Dropout(0.2))\n",
    "model.add(Dense(1,activation='sigmoid'))\n",
    "model.compile(loss='binary_crossentropy',optimizer='adam',metrics=['accuracy'])\n",
    "print(model.summary())"
   ]
  },
  {
   "cell_type": "code",
   "execution_count": 40,
   "id": "661fbf7a",
   "metadata": {},
   "outputs": [],
   "source": [
    "checkpoint = ModelCheckpoint(\"my_h5_imb_model_text1.h5\",monitor='val_accuracy',save_weights_only=True,mode='max',verbose=1)\n",
    "callbacks = [checkpoint]"
   ]
  },
  {
   "cell_type": "code",
   "execution_count": 41,
   "id": "d15ab6d1",
   "metadata": {},
   "outputs": [
    {
     "name": "stdout",
     "output_type": "stream",
     "text": [
      "Epoch 1/5\n",
      "4491/4491 [==============================] - ETA: 0s - loss: 0.4324 - accuracy: 0.7984\n",
      "Epoch 1: saving model to my_h5_imb_model_text1.h5\n",
      "4491/4491 [==============================] - 737s 163ms/step - loss: 0.4324 - accuracy: 0.7984 - val_loss: 0.6255 - val_accuracy: 0.7283\n",
      "Epoch 2/5\n",
      "4491/4491 [==============================] - ETA: 0s - loss: 0.3262 - accuracy: 0.8619\n",
      "Epoch 2: saving model to my_h5_imb_model_text1.h5\n",
      "4491/4491 [==============================] - 746s 166ms/step - loss: 0.3262 - accuracy: 0.8619 - val_loss: 0.3988 - val_accuracy: 0.8189\n",
      "Epoch 3/5\n",
      "4491/4491 [==============================] - ETA: 0s - loss: 0.2832 - accuracy: 0.8822\n",
      "Epoch 3: saving model to my_h5_imb_model_text1.h5\n",
      "4491/4491 [==============================] - 729s 162ms/step - loss: 0.2832 - accuracy: 0.8822 - val_loss: 0.2464 - val_accuracy: 0.8844\n",
      "Epoch 4/5\n",
      "4491/4491 [==============================] - ETA: 0s - loss: 0.2640 - accuracy: 0.8899\n",
      "Epoch 4: saving model to my_h5_imb_model_text1.h5\n",
      "4491/4491 [==============================] - 732s 163ms/step - loss: 0.2640 - accuracy: 0.8899 - val_loss: 0.2812 - val_accuracy: 0.8770\n",
      "Epoch 5/5\n",
      "4491/4491 [==============================] - ETA: 0s - loss: 0.2531 - accuracy: 0.8949\n",
      "Epoch 5: saving model to my_h5_imb_model_text1.h5\n",
      "4491/4491 [==============================] - 734s 163ms/step - loss: 0.2531 - accuracy: 0.8949 - val_loss: 0.2575 - val_accuracy: 0.8828\n"
     ]
    }
   ],
   "source": [
    "history= model.fit(x,y,validation_split=0.2,epochs=5,batch_size=32,callbacks=callbacks)"
   ]
  },
  {
   "cell_type": "code",
   "execution_count": 43,
   "id": "f0b8d1b5",
   "metadata": {},
   "outputs": [],
   "source": [
    "#Saving the Model\n",
    "model_json = model.to_json()\n",
    "with open(\"model_h5_imb_text1.json\",\"w\") as json_file:\n",
    "    json_file.write(model_json)"
   ]
  },
  {
   "cell_type": "code",
   "execution_count": 44,
   "id": "9084d0a9",
   "metadata": {},
   "outputs": [],
   "source": [
    "#TO open the model without training\n",
    "\n",
    "# to open \n",
    "from keras.models import model_from_json\n",
    "json_file = open('model_h5_imb_text1.json','r')\n",
    "loaded_model_json = json_file.read()\n",
    "json_file.close()\n",
    "loaded_model = model_from_json(loaded_model_json)\n",
    "loaded_model.load_weights(\"my_h5_imb_model_text1.h5\")\n"
   ]
  },
  {
   "cell_type": "code",
   "execution_count": 45,
   "id": "7d606c29",
   "metadata": {},
   "outputs": [
    {
     "name": "stdout",
     "output_type": "stream",
     "text": [
      "905/905 [==============================] - 18s 20ms/step\n"
     ]
    }
   ],
   "source": [
    "predict_x=loaded_model.predict(test_data) \n",
    "\n",
    "\n",
    "#Y_test\n",
    "classes_x=np.rint(predict_x)\n",
    "\n",
    "Y_pred = classes_x.flatten()\n"
   ]
  },
  {
   "cell_type": "code",
   "execution_count": 46,
   "id": "347ecd23",
   "metadata": {},
   "outputs": [
    {
     "name": "stdout",
     "output_type": "stream",
     "text": [
      "Accuracy-: 0.8949041285196061\n",
      "Confusion Matrix:\n",
      " [[20918  1419]\n",
      " [ 1623  4985]]\n",
      "Classification Report:\n",
      "               precision    recall  f1-score   support\n",
      "\n",
      "           0       0.93      0.94      0.93     22337\n",
      "           1       0.78      0.75      0.77      6608\n",
      "\n",
      "    accuracy                           0.89     28945\n",
      "   macro avg       0.85      0.85      0.85     28945\n",
      "weighted avg       0.89      0.89      0.89     28945\n",
      "\n"
     ]
    }
   ],
   "source": [
    "print(\"Accuracy-:\",accuracy_score(Y_test,Y_pred))\n",
    "print(\"Confusion Matrix:\\n\",confusion_matrix(Y_test, Y_pred))\n",
    "print(\"Classification Report:\\n\",classification_report(Y_test,Y_pred))"
   ]
  },
  {
   "cell_type": "markdown",
   "id": "f8677122",
   "metadata": {},
   "source": [
    "#### The accuracy did not get improved much, so we are sticking to the original data"
   ]
  },
  {
   "cell_type": "markdown",
   "id": "e6124f11",
   "metadata": {},
   "source": [
    "#### If you are more interested, Below are some more Deep Learning and Machine Learning Techniques. You can check them out."
   ]
  },
  {
   "cell_type": "code",
   "execution_count": null,
   "id": "74ca0242",
   "metadata": {},
   "outputs": [],
   "source": []
  },
  {
   "cell_type": "code",
   "execution_count": null,
   "id": "857e07cb",
   "metadata": {},
   "outputs": [],
   "source": []
  },
  {
   "cell_type": "code",
   "execution_count": null,
   "id": "ee2e7ea9",
   "metadata": {},
   "outputs": [],
   "source": []
  },
  {
   "cell_type": "code",
   "execution_count": null,
   "id": "d1dda22f",
   "metadata": {},
   "outputs": [],
   "source": []
  },
  {
   "cell_type": "code",
   "execution_count": null,
   "id": "488ed022",
   "metadata": {},
   "outputs": [],
   "source": []
  },
  {
   "cell_type": "code",
   "execution_count": null,
   "id": "e6659b3e",
   "metadata": {},
   "outputs": [],
   "source": []
  },
  {
   "cell_type": "code",
   "execution_count": null,
   "id": "d63d8d10",
   "metadata": {},
   "outputs": [],
   "source": []
  },
  {
   "cell_type": "code",
   "execution_count": null,
   "id": "ced39d5e",
   "metadata": {},
   "outputs": [],
   "source": []
  },
  {
   "cell_type": "code",
   "execution_count": null,
   "id": "02ce77d3",
   "metadata": {},
   "outputs": [],
   "source": []
  },
  {
   "cell_type": "code",
   "execution_count": null,
   "id": "a61b17b9",
   "metadata": {},
   "outputs": [],
   "source": []
  },
  {
   "cell_type": "code",
   "execution_count": null,
   "id": "409c879b",
   "metadata": {},
   "outputs": [],
   "source": []
  },
  {
   "cell_type": "code",
   "execution_count": null,
   "id": "f99fd8d0",
   "metadata": {},
   "outputs": [],
   "source": []
  },
  {
   "cell_type": "markdown",
   "id": "6f54903b",
   "metadata": {},
   "source": [
    "## CNN Model"
   ]
  },
  {
   "cell_type": "code",
   "execution_count": 53,
   "id": "c31711ad",
   "metadata": {},
   "outputs": [
    {
     "name": "stdout",
     "output_type": "stream",
     "text": [
      "Model: \"sequential_2\"\n",
      "_________________________________________________________________\n",
      " Layer (type)                Output Shape              Param #   \n",
      "=================================================================\n",
      " embedding_2 (Embedding)     (None, 200, 100)          9453100   \n",
      "                                                                 \n",
      " conv1d (Conv1D)             (None, 193, 32)           25632     \n",
      "                                                                 \n",
      " max_pooling1d (MaxPooling1D  (None, 96, 32)           0         \n",
      " )                                                               \n",
      "                                                                 \n",
      " flatten (Flatten)           (None, 3072)              0         \n",
      "                                                                 \n",
      " dense_2 (Dense)             (None, 10)                30730     \n",
      "                                                                 \n",
      " dense_3 (Dense)             (None, 1)                 11        \n",
      "                                                                 \n",
      "=================================================================\n",
      "Total params: 9,509,473\n",
      "Trainable params: 9,509,473\n",
      "Non-trainable params: 0\n",
      "_________________________________________________________________\n",
      "None\n"
     ]
    }
   ],
   "source": [
    "# define model\n",
    "model = Sequential()\n",
    "model.add(Embedding(vocab_size, 100, input_length=200))\n",
    "model.add(tf.keras.layers.Conv1D(filters=32, kernel_size=8, activation='relu'))\n",
    "model.add(tf.keras.layers.MaxPooling1D(pool_size=2))\n",
    "model.add(tf.keras.layers.Flatten())\n",
    "model.add(Dense(10, activation='relu'))\n",
    "model.add(Dense(1, activation='sigmoid'))\n",
    "print(model.summary())"
   ]
  },
  {
   "cell_type": "code",
   "execution_count": 54,
   "id": "2305fe35",
   "metadata": {},
   "outputs": [
    {
     "name": "stdout",
     "output_type": "stream",
     "text": [
      "Epoch 1/5\n",
      "2895/2895 [==============================] - ETA: 0s - loss: 0.3145 - accuracy: 0.8766\n",
      "Epoch 1: saving model to my_h6_model_text.h5\n",
      "2895/2895 [==============================] - 337s 116ms/step - loss: 0.3145 - accuracy: 0.8766 - val_loss: 0.2777 - val_accuracy: 0.8896\n",
      "Epoch 2/5\n",
      "2895/2895 [==============================] - ETA: 0s - loss: 0.2331 - accuracy: 0.9081\n",
      "Epoch 2: saving model to my_h6_model_text.h5\n",
      "2895/2895 [==============================] - 336s 116ms/step - loss: 0.2331 - accuracy: 0.9081 - val_loss: 0.2776 - val_accuracy: 0.8922\n",
      "Epoch 3/5\n",
      "2895/2895 [==============================] - ETA: 0s - loss: 0.1803 - accuracy: 0.9313\n",
      "Epoch 3: saving model to my_h6_model_text.h5\n",
      "2895/2895 [==============================] - 338s 117ms/step - loss: 0.1803 - accuracy: 0.9313 - val_loss: 0.2882 - val_accuracy: 0.8883\n",
      "Epoch 4/5\n",
      "2895/2895 [==============================] - ETA: 0s - loss: 0.1242 - accuracy: 0.9562\n",
      "Epoch 4: saving model to my_h6_model_text.h5\n",
      "2895/2895 [==============================] - 345s 119ms/step - loss: 0.1242 - accuracy: 0.9562 - val_loss: 0.3732 - val_accuracy: 0.8859\n",
      "Epoch 5/5\n",
      "2895/2895 [==============================] - ETA: 0s - loss: 0.0856 - accuracy: 0.9717\n",
      "Epoch 5: saving model to my_h6_model_text.h5\n",
      "2895/2895 [==============================] - 383s 132ms/step - loss: 0.0856 - accuracy: 0.9717 - val_loss: 0.4556 - val_accuracy: 0.8728\n"
     ]
    }
   ],
   "source": [
    "# compile network\n",
    "checkpoint = ModelCheckpoint(\"my_h6_model_text1.h5\",monitor='val_accuracy',save_weights_only=True,mode='max',verbose=1)\n",
    "callbacks = [checkpoint]\n",
    "model.compile(loss='binary_crossentropy', optimizer='adam', metrics=['accuracy'])\n",
    "# fit network\n",
    "history1 = model.fit(X_re,Y_re,validation_split=0.2,epochs=5,batch_size=32,callbacks=callbacks)"
   ]
  },
  {
   "cell_type": "code",
   "execution_count": 55,
   "id": "c9d6e790",
   "metadata": {},
   "outputs": [],
   "source": [
    "#Saving the Model\n",
    "model_json = model.to_json()\n",
    "with open(\"model_h6_text1.json\",\"w\") as json_file:\n",
    "    json_file.write(model_json)\n"
   ]
  },
  {
   "cell_type": "code",
   "execution_count": 56,
   "id": "667401af",
   "metadata": {},
   "outputs": [],
   "source": [
    "#TO open the model without training\n",
    "\n",
    "# to open \n",
    "from keras.models import model_from_json\n",
    "json_file = open('model_h6_text1.json','r')\n",
    "loaded_model_json = json_file.read()\n",
    "json_file.close()\n",
    "loaded_model = model_from_json(loaded_model_json)\n",
    "loaded_model.load_weights(\"my_h6_model_text1.h5\")\n"
   ]
  },
  {
   "cell_type": "code",
   "execution_count": 57,
   "id": "1e7bcd25",
   "metadata": {},
   "outputs": [
    {
     "name": "stdout",
     "output_type": "stream",
     "text": [
      "905/905 [==============================] - 3s 4ms/step\n"
     ]
    }
   ],
   "source": [
    "predict_x=loaded_model.predict(test_data) \n",
    "\n",
    "\n",
    "#Y_test\n",
    "classes_x=np.rint(predict_x)\n",
    "\n",
    "Y_pred = classes_x.flatten()\n"
   ]
  },
  {
   "cell_type": "code",
   "execution_count": 58,
   "id": "3867d790",
   "metadata": {},
   "outputs": [
    {
     "name": "stdout",
     "output_type": "stream",
     "text": [
      "Accuracy-: 0.8761444118155122\n",
      "Confusion Matrix:\n",
      " [[20471  1866]\n",
      " [ 1719  4889]]\n",
      "Classification Report:\n",
      "               precision    recall  f1-score   support\n",
      "\n",
      "           0       0.92      0.92      0.92     22337\n",
      "           1       0.72      0.74      0.73      6608\n",
      "\n",
      "    accuracy                           0.88     28945\n",
      "   macro avg       0.82      0.83      0.83     28945\n",
      "weighted avg       0.88      0.88      0.88     28945\n",
      "\n"
     ]
    }
   ],
   "source": [
    "print(\"Accuracy-:\",accuracy_score(Y_test,Y_pred))\n",
    "print(\"Confusion Matrix:\\n\",confusion_matrix(Y_test, Y_pred))\n",
    "print(\"Classification Report:\\n\",classification_report(Y_test,Y_pred))"
   ]
  },
  {
   "cell_type": "code",
   "execution_count": 59,
   "id": "a1b7d475",
   "metadata": {},
   "outputs": [
    {
     "data": {
      "image/png": "[encoded data removed]",
      "text/plain": [
       "<Figure size 432x288 with 1 Axes>"
      ]
     },
     "metadata": {
      "needs_background": "light"
     },
     "output_type": "display_data"
    },
    {
     "data": {
      "text/plain": [
       "<Figure size 432x288 with 0 Axes>"
      ]
     },
     "metadata": {},
     "output_type": "display_data"
    }
   ],
   "source": [
    "plt.plot(history.history['accuracy'], label='acc')\n",
    "plt.plot(history.history['val_accuracy'], label='val_acc')\n",
    "plt.legend()\n",
    "plt.show()\n",
    "plt.savefig(\"Accuracy plot.jpg\")"
   ]
  },
  {
   "cell_type": "code",
   "execution_count": 60,
   "id": "1ef834fa",
   "metadata": {},
   "outputs": [
    {
     "data": {
      "image/png": "[encoded data removed]",
      "text/plain": [
       "<Figure size 432x288 with 1 Axes>"
      ]
     },
     "metadata": {
      "needs_background": "light"
     },
     "output_type": "display_data"
    },
    {
     "data": {
      "text/plain": [
       "<Figure size 432x288 with 0 Axes>"
      ]
     },
     "metadata": {},
     "output_type": "display_data"
    }
   ],
   "source": [
    "plt.plot(history.history['loss'], label='loss')\n",
    "plt.plot(history.history['val_loss'], label='val_loss')\n",
    "plt.legend()\n",
    "plt.show()\n",
    "plt.savefig(\"Loss plot.jpg\")"
   ]
  },
  {
   "cell_type": "code",
   "execution_count": null,
   "id": "2bb00f18",
   "metadata": {},
   "outputs": [],
   "source": []
  },
  {
   "cell_type": "markdown",
   "id": "c909b122",
   "metadata": {},
   "source": [
    "## CNN + LSTM"
   ]
  },
  {
   "cell_type": "code",
   "execution_count": 61,
   "id": "b071bf1b",
   "metadata": {},
   "outputs": [
    {
     "name": "stdout",
     "output_type": "stream",
     "text": [
      "Model: \"sequential_3\"\n",
      "_________________________________________________________________\n",
      " Layer (type)                Output Shape              Param #   \n",
      "=================================================================\n",
      " embedding_3 (Embedding)     (None, 200, 100)          9453100   \n",
      "                                                                 \n",
      " conv1d_1 (Conv1D)           (None, 200, 32)           9632      \n",
      "                                                                 \n",
      " max_pooling1d_1 (MaxPooling  (None, 100, 32)          0         \n",
      " 1D)                                                             \n",
      "                                                                 \n",
      " lstm_2 (LSTM)               (None, 100)               53200     \n",
      "                                                                 \n",
      " dense_4 (Dense)             (None, 1)                 101       \n",
      "                                                                 \n",
      "=================================================================\n",
      "Total params: 9,516,033\n",
      "Trainable params: 9,516,033\n",
      "Non-trainable params: 0\n",
      "_________________________________________________________________\n",
      "None\n"
     ]
    }
   ],
   "source": [
    "model = Sequential()\n",
    "model.add(Embedding(vocab_size, 100, input_length=200))\n",
    "model.add(tf.keras.layers.Conv1D(filters=32, kernel_size=3, padding='same', activation='relu'))\n",
    "model.add(tf.keras.layers.MaxPooling1D(pool_size=2))\n",
    "model.add(LSTM(100))\n",
    "model.add(Dense(1, activation='sigmoid'))\n",
    "model.compile(loss='binary_crossentropy', optimizer='adam', metrics=['accuracy'])\n",
    "print(model.summary())"
   ]
  },
  {
   "cell_type": "code",
   "execution_count": 62,
   "id": "c75d7c0c",
   "metadata": {},
   "outputs": [
    {
     "name": "stdout",
     "output_type": "stream",
     "text": [
      "Epoch 1/5\n",
      "2895/2895 [==============================] - ETA: 0s - loss: 0.2682 - accuracy: 0.8896\n",
      "Epoch 1: saving model to my_h7_model_text.h5\n",
      "2895/2895 [==============================] - 453s 156ms/step - loss: 0.2682 - accuracy: 0.8896 - val_loss: 0.2537 - val_accuracy: 0.8989\n",
      "Epoch 2/5\n",
      "2895/2895 [==============================] - ETA: 0s - loss: 0.2147 - accuracy: 0.9132\n",
      "Epoch 2: saving model to my_h7_model_text.h5\n",
      "2895/2895 [==============================] - 407s 141ms/step - loss: 0.2147 - accuracy: 0.9132 - val_loss: 0.2469 - val_accuracy: 0.8963\n",
      "Epoch 3/5\n",
      "2895/2895 [==============================] - ETA: 0s - loss: 0.1882 - accuracy: 0.9256\n",
      "Epoch 3: saving model to my_h7_model_text.h5\n",
      "2895/2895 [==============================] - 410s 142ms/step - loss: 0.1882 - accuracy: 0.9256 - val_loss: 0.2484 - val_accuracy: 0.9009\n",
      "Epoch 4/5\n",
      "2895/2895 [==============================] - ETA: 0s - loss: 0.1612 - accuracy: 0.9374\n",
      "Epoch 4: saving model to my_h7_model_text.h5\n",
      "2895/2895 [==============================] - 409s 141ms/step - loss: 0.1612 - accuracy: 0.9374 - val_loss: 0.2641 - val_accuracy: 0.8975\n",
      "Epoch 5/5\n",
      "2895/2895 [==============================] - ETA: 0s - loss: 0.1330 - accuracy: 0.9494\n",
      "Epoch 5: saving model to my_h7_model_text.h5\n",
      "2895/2895 [==============================] - 410s 141ms/step - loss: 0.1330 - accuracy: 0.9494 - val_loss: 0.2842 - val_accuracy: 0.8951\n"
     ]
    }
   ],
   "source": [
    "# compile network\n",
    "checkpoint = ModelCheckpoint(\"my_h7_model_text1.h5\",monitor='val_accuracy',save_weights_only=True,mode='max',verbose=1)\n",
    "callbacks = [checkpoint]\n",
    "model.compile(loss='binary_crossentropy', optimizer='adam', metrics=['accuracy'])\n",
    "# fit network\n",
    "history2 = model.fit(X_re,Y_re,validation_split=0.2,epochs=5,batch_size=32,callbacks=callbacks)"
   ]
  },
  {
   "cell_type": "code",
   "execution_count": 63,
   "id": "3a922154",
   "metadata": {},
   "outputs": [],
   "source": [
    "#Saving the Model\n",
    "model_json = model.to_json()\n",
    "with open(\"model_h7_text1.json\",\"w\") as json_file:\n",
    "    json_file.write(model_json)\n"
   ]
  },
  {
   "cell_type": "code",
   "execution_count": 64,
   "id": "7134a7c8",
   "metadata": {},
   "outputs": [],
   "source": [
    "#TO open the model without training\n",
    "\n",
    "# to open \n",
    "from keras.models import model_from_json\n",
    "json_file = open('model_h7_text1.json','r')\n",
    "loaded_model_json = json_file.read()\n",
    "json_file.close()\n",
    "loaded_model = model_from_json(loaded_model_json)\n",
    "loaded_model.load_weights(\"my_h7_model_text1.h5\")\n"
   ]
  },
  {
   "cell_type": "code",
   "execution_count": 65,
   "id": "5f5d2a2a",
   "metadata": {},
   "outputs": [
    {
     "name": "stdout",
     "output_type": "stream",
     "text": [
      "905/905 [==============================] - 17s 18ms/step\n"
     ]
    }
   ],
   "source": [
    "predict_x=loaded_model.predict(test_data) \n",
    "\n",
    "\n",
    "#Y_test\n",
    "classes_x=np.rint(predict_x)\n",
    "\n",
    "Y_pred = classes_x.flatten()\n"
   ]
  },
  {
   "cell_type": "code",
   "execution_count": 66,
   "id": "11b7df9a",
   "metadata": {},
   "outputs": [
    {
     "name": "stdout",
     "output_type": "stream",
     "text": [
      "Accuracy-: 0.8960442217999655\n",
      "Confusion Matrix:\n",
      " [[20938  1399]\n",
      " [ 1610  4998]]\n",
      "Classification Report:\n",
      "               precision    recall  f1-score   support\n",
      "\n",
      "           0       0.93      0.94      0.93     22337\n",
      "           1       0.78      0.76      0.77      6608\n",
      "\n",
      "    accuracy                           0.90     28945\n",
      "   macro avg       0.85      0.85      0.85     28945\n",
      "weighted avg       0.89      0.90      0.90     28945\n",
      "\n"
     ]
    }
   ],
   "source": [
    "print(\"Accuracy-:\",accuracy_score(Y_test,Y_pred))\n",
    "print(\"Confusion Matrix:\\n\",confusion_matrix(Y_test, Y_pred))\n",
    "print(\"Classification Report:\\n\",classification_report(Y_test,Y_pred))"
   ]
  },
  {
   "cell_type": "code",
   "execution_count": 67,
   "id": "26bda0c6",
   "metadata": {},
   "outputs": [
    {
     "data": {
      "image/png": "[encoded data removed]",
      "text/plain": [
       "<Figure size 432x288 with 1 Axes>"
      ]
     },
     "metadata": {
      "needs_background": "light"
     },
     "output_type": "display_data"
    },
    {
     "data": {
      "text/plain": [
       "<Figure size 432x288 with 0 Axes>"
      ]
     },
     "metadata": {},
     "output_type": "display_data"
    }
   ],
   "source": [
    "plt.plot(history.history['accuracy'], label='acc')\n",
    "plt.plot(history.history['val_accuracy'], label='val_acc')\n",
    "plt.legend()\n",
    "plt.show()\n",
    "plt.savefig(\"Accuracy plot.jpg\")"
   ]
  },
  {
   "cell_type": "code",
   "execution_count": 68,
   "id": "81a9644b",
   "metadata": {},
   "outputs": [
    {
     "data": {
      "image/png": "[encoded data removed]",
      "text/plain": [
       "<Figure size 432x288 with 1 Axes>"
      ]
     },
     "metadata": {
      "needs_background": "light"
     },
     "output_type": "display_data"
    },
    {
     "data": {
      "text/plain": [
       "<Figure size 432x288 with 0 Axes>"
      ]
     },
     "metadata": {},
     "output_type": "display_data"
    }
   ],
   "source": [
    "plt.plot(history.history['loss'], label='loss')\n",
    "plt.plot(history.history['val_loss'], label='val_loss')\n",
    "plt.legend()\n",
    "plt.show()\n",
    "plt.savefig(\"Loss plot.jpg\")"
   ]
  },
  {
   "cell_type": "code",
   "execution_count": null,
   "id": "e6d49466",
   "metadata": {},
   "outputs": [],
   "source": []
  },
  {
   "cell_type": "markdown",
   "id": "5f80e2d9",
   "metadata": {},
   "source": [
    "### Bi-LSTM "
   ]
  },
  {
   "cell_type": "code",
   "execution_count": 100,
   "id": "6c5fea2c",
   "metadata": {},
   "outputs": [
    {
     "name": "stdout",
     "output_type": "stream",
     "text": [
      "Model: \"sequential_11\"\n",
      "_________________________________________________________________\n",
      " Layer (type)                Output Shape              Param #   \n",
      "=================================================================\n",
      " embedding_11 (Embedding)    (None, 200, 32)           3024992   \n",
      "                                                                 \n",
      " bidirectional_4 (Bidirectio  (None, 128)              49664     \n",
      " nal)                                                            \n",
      "                                                                 \n",
      " dense_13 (Dense)            (None, 24)                3096      \n",
      "                                                                 \n",
      " dense_14 (Dense)            (None, 1)                 25        \n",
      "                                                                 \n",
      "=================================================================\n",
      "Total params: 3,077,777\n",
      "Trainable params: 3,077,777\n",
      "Non-trainable params: 0\n",
      "_________________________________________________________________\n",
      "None\n"
     ]
    }
   ],
   "source": [
    "embedding_vector_length = 32\n",
    "model = Sequential()\n",
    "model.add(Embedding(vocab_size,embedding_vector_length,input_length=200))\n",
    "model.add(Bidirectional(LSTM(64,dropout=0.5,recurrent_dropout=0.5)))\n",
    "model.add(Dense(24,activation='relu'))\n",
    "model.add(Dense(1,activation='sigmoid'))\n",
    "model.compile(loss='binary_crossentropy',optimizer='adam',metrics=['accuracy'])\n",
    "print(model.summary())"
   ]
  },
  {
   "cell_type": "code",
   "execution_count": 85,
   "id": "cc444ee9",
   "metadata": {},
   "outputs": [
    {
     "name": "stdout",
     "output_type": "stream",
     "text": [
      "Epoch 1/5\n",
      "2895/2895 [==============================] - ETA: 0s - loss: 0.2872 - accuracy: 0.8819\n",
      "Epoch 1: saving model to my_h8_model_text.h5\n",
      "2895/2895 [==============================] - 586s 201ms/step - loss: 0.2872 - accuracy: 0.8819 - val_loss: 0.2743 - val_accuracy: 0.8904\n",
      "Epoch 2/5\n",
      "2895/2895 [==============================] - ETA: 0s - loss: 0.2380 - accuracy: 0.9030\n",
      "Epoch 2: saving model to my_h8_model_text.h5\n",
      "2895/2895 [==============================] - 603s 208ms/step - loss: 0.2380 - accuracy: 0.9030 - val_loss: 0.2457 - val_accuracy: 0.8997\n",
      "Epoch 3/5\n",
      "2895/2895 [==============================] - ETA: 0s - loss: 0.2238 - accuracy: 0.9097\n",
      "Epoch 3: saving model to my_h8_model_text.h5\n",
      "2895/2895 [==============================] - 602s 208ms/step - loss: 0.2238 - accuracy: 0.9097 - val_loss: 0.2476 - val_accuracy: 0.8991\n",
      "Epoch 4/5\n",
      "2895/2895 [==============================] - ETA: 0s - loss: 0.2132 - accuracy: 0.9135\n",
      "Epoch 4: saving model to my_h8_model_text.h5\n",
      "2895/2895 [==============================] - 603s 208ms/step - loss: 0.2132 - accuracy: 0.9135 - val_loss: 0.2407 - val_accuracy: 0.9018\n",
      "Epoch 5/5\n",
      "2895/2895 [==============================] - ETA: 0s - loss: 0.2048 - accuracy: 0.9161\n",
      "Epoch 5: saving model to my_h8_model_text.h5\n",
      "2895/2895 [==============================] - 613s 212ms/step - loss: 0.2048 - accuracy: 0.9161 - val_loss: 0.2448 - val_accuracy: 0.9027\n"
     ]
    }
   ],
   "source": [
    "# compile network\n",
    "checkpoint = ModelCheckpoint(\"my_h8_model_text1.h5\",monitor='val_accuracy',save_weights_only=True,mode='max',verbose=1)\n",
    "callbacks = [checkpoint]\n",
    "# fit network\n",
    "history3 = model.fit(X_re,Y_re,validation_split=0.2,epochs=5,batch_size=32,callbacks=callbacks)"
   ]
  },
  {
   "cell_type": "code",
   "execution_count": 101,
   "id": "5e8f9daa",
   "metadata": {},
   "outputs": [],
   "source": [
    "#Saving the Model\n",
    "model_json = model.to_json()\n",
    "with open(\"model_h8_text1.json\",\"w\") as json_file:\n",
    "    json_file.write(model_json)\n"
   ]
  },
  {
   "cell_type": "code",
   "execution_count": 88,
   "id": "75df6b41",
   "metadata": {},
   "outputs": [],
   "source": [
    "#TO open the model without training\n",
    "\n",
    "# to open \n",
    "from keras.models import model_from_json\n",
    "json_file = open('model_h8_text1.json','r')\n",
    "loaded_model_json = json_file.read()\n",
    "json_file.close()\n",
    "loaded_model = model_from_json(loaded_model_json)\n",
    "loaded_model.load_weights(\"my_h8_model_text1.h5\")\n"
   ]
  },
  {
   "cell_type": "code",
   "execution_count": 89,
   "id": "d4f56d13",
   "metadata": {},
   "outputs": [
    {
     "name": "stdout",
     "output_type": "stream",
     "text": [
      "905/905 [==============================] - 23s 25ms/step\n"
     ]
    }
   ],
   "source": [
    "predict_x=loaded_model.predict(test_data) \n",
    "\n",
    "\n",
    "#Y_test\n",
    "classes_x=np.rint(predict_x)\n",
    "\n",
    "Y_pred = classes_x.flatten()\n"
   ]
  },
  {
   "cell_type": "code",
   "execution_count": 90,
   "id": "122f161a",
   "metadata": {},
   "outputs": [
    {
     "name": "stdout",
     "output_type": "stream",
     "text": [
      "Accuracy-: 0.9025047503886682\n",
      "Confusion Matrix:\n",
      " [[21495   842]\n",
      " [ 1980  4628]]\n",
      "Classification Report:\n",
      "               precision    recall  f1-score   support\n",
      "\n",
      "           0       0.92      0.96      0.94     22337\n",
      "           1       0.85      0.70      0.77      6608\n",
      "\n",
      "    accuracy                           0.90     28945\n",
      "   macro avg       0.88      0.83      0.85     28945\n",
      "weighted avg       0.90      0.90      0.90     28945\n",
      "\n"
     ]
    }
   ],
   "source": [
    "print(\"Accuracy-:\",accuracy_score(Y_test,Y_pred))\n",
    "print(\"Confusion Matrix:\\n\",confusion_matrix(Y_test, Y_pred))\n",
    "print(\"Classification Report:\\n\",classification_report(Y_test,Y_pred))"
   ]
  },
  {
   "cell_type": "code",
   "execution_count": 91,
   "id": "31594cb1",
   "metadata": {},
   "outputs": [
    {
     "data": {
      "image/png": "[encoded data removed]",
      "text/plain": [
       "<Figure size 432x288 with 1 Axes>"
      ]
     },
     "metadata": {
      "needs_background": "light"
     },
     "output_type": "display_data"
    },
    {
     "data": {
      "text/plain": [
       "<Figure size 432x288 with 0 Axes>"
      ]
     },
     "metadata": {},
     "output_type": "display_data"
    }
   ],
   "source": [
    "plt.plot(history.history['accuracy'], label='acc')\n",
    "plt.plot(history.history['val_accuracy'], label='val_acc')\n",
    "plt.legend()\n",
    "plt.show()\n",
    "plt.savefig(\"Accuracy plot.jpg\")"
   ]
  },
  {
   "cell_type": "code",
   "execution_count": 92,
   "id": "69e76bcd",
   "metadata": {},
   "outputs": [
    {
     "data": {
      "image/png": "[encoded data removed]",
      "text/plain": [
       "<Figure size 432x288 with 1 Axes>"
      ]
     },
     "metadata": {
      "needs_background": "light"
     },
     "output_type": "display_data"
    },
    {
     "data": {
      "text/plain": [
       "<Figure size 432x288 with 0 Axes>"
      ]
     },
     "metadata": {},
     "output_type": "display_data"
    }
   ],
   "source": [
    "plt.plot(history.history['loss'], label='loss')\n",
    "plt.plot(history.history['val_loss'], label='val_loss')\n",
    "plt.legend()\n",
    "plt.show()\n",
    "plt.savefig(\"Loss plot.jpg\")"
   ]
  },
  {
   "cell_type": "code",
   "execution_count": null,
   "id": "5883e5c9",
   "metadata": {},
   "outputs": [],
   "source": []
  },
  {
   "cell_type": "code",
   "execution_count": null,
   "id": "b66a1226",
   "metadata": {},
   "outputs": [],
   "source": []
  },
  {
   "cell_type": "markdown",
   "id": "c1b6c014",
   "metadata": {},
   "source": [
    "## CNN + Bi-LSTM"
   ]
  },
  {
   "cell_type": "code",
   "execution_count": 102,
   "id": "788d5630",
   "metadata": {
    "scrolled": true
   },
   "outputs": [
    {
     "name": "stdout",
     "output_type": "stream",
     "text": [
      "Model: \"sequential_12\"\n",
      "_________________________________________________________________\n",
      " Layer (type)                Output Shape              Param #   \n",
      "=================================================================\n",
      " embedding_12 (Embedding)    (None, 200, 100)          9453100   \n",
      "                                                                 \n",
      " conv1d_2 (Conv1D)           (None, 200, 32)           9632      \n",
      "                                                                 \n",
      " max_pooling1d_2 (MaxPooling  (None, 100, 32)          0         \n",
      " 1D)                                                             \n",
      "                                                                 \n",
      " bidirectional_5 (Bidirectio  (None, 128)              49664     \n",
      " nal)                                                            \n",
      "                                                                 \n",
      " dense_15 (Dense)            (None, 24)                3096      \n",
      "                                                                 \n",
      " dense_16 (Dense)            (None, 1)                 25        \n",
      "                                                                 \n",
      "=================================================================\n",
      "Total params: 9,515,517\n",
      "Trainable params: 9,515,517\n",
      "Non-trainable params: 0\n",
      "_________________________________________________________________\n",
      "None\n"
     ]
    }
   ],
   "source": [
    "model = Sequential()\n",
    "model.add(Embedding(vocab_size, 100, input_length=200))\n",
    "model.add(tf.keras.layers.Conv1D(filters=32, kernel_size=3, padding='same', activation='relu'))\n",
    "model.add(tf.keras.layers.MaxPooling1D(pool_size=2))\n",
    "model.add(Bidirectional(LSTM(64,dropout=0.5,recurrent_dropout=0.5)))\n",
    "model.add(Dense(24,activation='relu'))\n",
    "model.add(Dense(1,activation='sigmoid'))\n",
    "model.compile(loss='binary_crossentropy',optimizer='adam',metrics=['accuracy'])\n",
    "print(model.summary())"
   ]
  },
  {
   "cell_type": "code",
   "execution_count": 103,
   "id": "6d120240",
   "metadata": {},
   "outputs": [],
   "source": [
    "# compile network\n",
    "checkpoint = ModelCheckpoint(\"my_h9_model_text1.h5\",monitor='val_accuracy',save_weights_only=True,mode='max',verbose=1)\n",
    "callbacks = [checkpoint]\n"
   ]
  },
  {
   "cell_type": "code",
   "execution_count": 104,
   "id": "97d8e48b",
   "metadata": {},
   "outputs": [
    {
     "name": "stdout",
     "output_type": "stream",
     "text": [
      "Epoch 1/5\n",
      "2895/2895 [==============================] - ETA: 0s - loss: 0.2747 - accuracy: 0.8876\n",
      "Epoch 1: saving model to my_h9_model_text.h5\n",
      "2895/2895 [==============================] - 556s 190ms/step - loss: 0.2747 - accuracy: 0.8876 - val_loss: 0.2455 - val_accuracy: 0.8934\n",
      "Epoch 2/5\n",
      "2895/2895 [==============================] - ETA: 0s - loss: 0.2230 - accuracy: 0.9099\n",
      "Epoch 2: saving model to my_h9_model_text.h5\n",
      "2895/2895 [==============================] - 536s 185ms/step - loss: 0.2230 - accuracy: 0.9099 - val_loss: 0.2423 - val_accuracy: 0.9023\n",
      "Epoch 3/5\n",
      "2895/2895 [==============================] - ETA: 0s - loss: 0.2011 - accuracy: 0.9182\n",
      "Epoch 3: saving model to my_h9_model_text.h5\n",
      "2895/2895 [==============================] - 539s 186ms/step - loss: 0.2011 - accuracy: 0.9182 - val_loss: 0.2471 - val_accuracy: 0.9015\n",
      "Epoch 4/5\n",
      "2895/2895 [==============================] - ETA: 0s - loss: 0.1832 - accuracy: 0.9264\n",
      "Epoch 4: saving model to my_h9_model_text.h5\n",
      "2895/2895 [==============================] - 538s 186ms/step - loss: 0.1832 - accuracy: 0.9264 - val_loss: 0.2516 - val_accuracy: 0.9004\n",
      "Epoch 5/5\n",
      "2895/2895 [==============================] - ETA: 0s - loss: 0.1662 - accuracy: 0.9333\n",
      "Epoch 5: saving model to my_h9_model_text.h5\n",
      "2895/2895 [==============================] - 538s 186ms/step - loss: 0.1662 - accuracy: 0.9333 - val_loss: 0.2948 - val_accuracy: 0.8982\n"
     ]
    }
   ],
   "source": [
    "# fit network\n",
    "history = model.fit(X_re,Y_re,validation_split=0.2,epochs=5,batch_size=32,callbacks=callbacks)"
   ]
  },
  {
   "cell_type": "code",
   "execution_count": 105,
   "id": "b1972116",
   "metadata": {},
   "outputs": [],
   "source": [
    "#Saving the Model\n",
    "model_json = model.to_json()\n",
    "with open(\"model_h9_text1.json\",\"w\") as json_file:\n",
    "    json_file.write(model_json)"
   ]
  },
  {
   "cell_type": "code",
   "execution_count": 106,
   "id": "adab37b9",
   "metadata": {},
   "outputs": [],
   "source": [
    "#TO open the model without training\n",
    "\n",
    "# to open \n",
    "from keras.models import model_from_json\n",
    "json_file = open('model_h9_text1.json','r')\n",
    "loaded_model_json = json_file.read()\n",
    "json_file.close()\n",
    "loaded_model = model_from_json(loaded_model_json)\n",
    "loaded_model.load_weights(\"my_h9_model_text1.h5\")\n"
   ]
  },
  {
   "cell_type": "code",
   "execution_count": 107,
   "id": "4d6a107b",
   "metadata": {},
   "outputs": [
    {
     "name": "stdout",
     "output_type": "stream",
     "text": [
      "905/905 [==============================] - 16s 13ms/step\n"
     ]
    }
   ],
   "source": [
    "predict_x=loaded_model.predict(test_data) \n",
    "\n",
    "\n",
    "#Y_test\n",
    "classes_x=np.rint(predict_x)\n",
    "\n",
    "Y_pred = classes_x.flatten()\n"
   ]
  },
  {
   "cell_type": "code",
   "execution_count": 108,
   "id": "9be5336a",
   "metadata": {},
   "outputs": [
    {
     "name": "stdout",
     "output_type": "stream",
     "text": [
      "Accuracy-: 0.8994990499222664\n",
      "Confusion Matrix:\n",
      " [[21494   843]\n",
      " [ 2066  4542]]\n",
      "Classification Report:\n",
      "               precision    recall  f1-score   support\n",
      "\n",
      "           0       0.91      0.96      0.94     22337\n",
      "           1       0.84      0.69      0.76      6608\n",
      "\n",
      "    accuracy                           0.90     28945\n",
      "   macro avg       0.88      0.82      0.85     28945\n",
      "weighted avg       0.90      0.90      0.90     28945\n",
      "\n"
     ]
    }
   ],
   "source": [
    "print(\"Accuracy-:\",accuracy_score(Y_test,Y_pred))\n",
    "print(\"Confusion Matrix:\\n\",confusion_matrix(Y_test, Y_pred))\n",
    "print(\"Classification Report:\\n\",classification_report(Y_test,Y_pred))"
   ]
  },
  {
   "cell_type": "code",
   "execution_count": null,
   "id": "3e91b978",
   "metadata": {},
   "outputs": [],
   "source": []
  },
  {
   "cell_type": "code",
   "execution_count": null,
   "id": "c4bc00d5",
   "metadata": {},
   "outputs": [],
   "source": []
  },
  {
   "cell_type": "code",
   "execution_count": null,
   "id": "1b3524b6",
   "metadata": {},
   "outputs": [],
   "source": []
  },
  {
   "cell_type": "code",
   "execution_count": null,
   "id": "8f987f63",
   "metadata": {},
   "outputs": [],
   "source": []
  },
  {
   "cell_type": "markdown",
   "id": "843d3a87",
   "metadata": {},
   "source": [
    "### Naive Bayes"
   ]
  },
  {
   "cell_type": "code",
   "execution_count": null,
   "id": "b0812c27",
   "metadata": {},
   "outputs": [],
   "source": []
  },
  {
   "cell_type": "code",
   "execution_count": 47,
   "id": "8101264e",
   "metadata": {},
   "outputs": [],
   "source": [
    "from sklearn.naive_bayes import MultinomialNB"
   ]
  },
  {
   "cell_type": "code",
   "execution_count": 48,
   "id": "5585c008",
   "metadata": {},
   "outputs": [
    {
     "data": {
      "text/html": [
       "<style>#sk-container-id-1 {color: black;background-color: white;}#sk-container-id-1 pre{padding: 0;}#sk-container-id-1 div.sk-toggleable {background-color: white;}#sk-container-id-1 label.sk-toggleable__label {cursor: pointer;display: block;width: 100%;margin-bottom: 0;padding: 0.3em;box-sizing: border-box;text-align: center;}#sk-container-id-1 label.sk-toggleable__label-arrow:before {content: \"▸\";float: left;margin-right: 0.25em;color: #696969;}#sk-container-id-1 label.sk-toggleable__label-arrow:hover:before {color: black;}#sk-container-id-1 div.sk-estimator:hover label.sk-toggleable__label-arrow:before {color: black;}#sk-container-id-1 div.sk-toggleable__content {max-height: 0;max-width: 0;overflow: hidden;text-align: left;background-color: #f0f8ff;}#sk-container-id-1 div.sk-toggleable__content pre {margin: 0.2em;color: black;border-radius: 0.25em;background-color: #f0f8ff;}#sk-container-id-1 input.sk-toggleable__control:checked~div.sk-toggleable__content {max-height: 200px;max-width: 100%;overflow: auto;}#sk-container-id-1 input.sk-toggleable__control:checked~label.sk-toggleable__label-arrow:before {content: \"▾\";}#sk-container-id-1 div.sk-estimator input.sk-toggleable__control:checked~label.sk-toggleable__label {background-color: #d4ebff;}#sk-container-id-1 div.sk-label input.sk-toggleable__control:checked~label.sk-toggleable__label {background-color: #d4ebff;}#sk-container-id-1 input.sk-hidden--visually {border: 0;clip: rect(1px 1px 1px 1px);clip: rect(1px, 1px, 1px, 1px);height: 1px;margin: -1px;overflow: hidden;padding: 0;position: absolute;width: 1px;}#sk-container-id-1 div.sk-estimator {font-family: monospace;background-color: #f0f8ff;border: 1px dotted black;border-radius: 0.25em;box-sizing: border-box;margin-bottom: 0.5em;}#sk-container-id-1 div.sk-estimator:hover {background-color: #d4ebff;}#sk-container-id-1 div.sk-parallel-item::after {content: \"\";width: 100%;border-bottom: 1px solid gray;flex-grow: 1;}#sk-container-id-1 div.sk-label:hover label.sk-toggleable__label {background-color: #d4ebff;}#sk-container-id-1 div.sk-serial::before {content: \"\";position: absolute;border-left: 1px solid gray;box-sizing: border-box;top: 0;bottom: 0;left: 50%;z-index: 0;}#sk-container-id-1 div.sk-serial {display: flex;flex-direction: column;align-items: center;background-color: white;padding-right: 0.2em;padding-left: 0.2em;position: relative;}#sk-container-id-1 div.sk-item {position: relative;z-index: 1;}#sk-container-id-1 div.sk-parallel {display: flex;align-items: stretch;justify-content: center;background-color: white;position: relative;}#sk-container-id-1 div.sk-item::before, #sk-container-id-1 div.sk-parallel-item::before {content: \"\";position: absolute;border-left: 1px solid gray;box-sizing: border-box;top: 0;bottom: 0;left: 50%;z-index: -1;}#sk-container-id-1 div.sk-parallel-item {display: flex;flex-direction: column;z-index: 1;position: relative;background-color: white;}#sk-container-id-1 div.sk-parallel-item:first-child::after {align-self: flex-end;width: 50%;}#sk-container-id-1 div.sk-parallel-item:last-child::after {align-self: flex-start;width: 50%;}#sk-container-id-1 div.sk-parallel-item:only-child::after {width: 0;}#sk-container-id-1 div.sk-dashed-wrapped {border: 1px dashed gray;margin: 0 0.4em 0.5em 0.4em;box-sizing: border-box;padding-bottom: 0.4em;background-color: white;}#sk-container-id-1 div.sk-label label {font-family: monospace;font-weight: bold;display: inline-block;line-height: 1.2em;}#sk-container-id-1 div.sk-label-container {text-align: center;}#sk-container-id-1 div.sk-container {/* jupyter's `normalize.less` sets `[hidden] { display: none; }` but bootstrap.min.css set `[hidden] { display: none !important; }` so we also need the `!important` here to be able to override the default hidden behavior on the sphinx rendered scikit-learn.org. See: https://github.com/scikit-learn/scikit-learn/issues/21755 */display: inline-block !important;position: relative;}#sk-container-id-1 div.sk-text-repr-fallback {display: none;}</style><div id=\"sk-container-id-1\" class=\"sk-top-container\"><div class=\"sk-text-repr-fallback\"><pre>MultinomialNB()</pre><b>In a Jupyter environment, please rerun this cell to show the HTML representation or trust the notebook. <br />On GitHub, the HTML representation is unable to render, please try loading this page with nbviewer.org.</b></div><div class=\"sk-container\" hidden><div class=\"sk-item\"><div class=\"sk-estimator sk-toggleable\"><input class=\"sk-toggleable__control sk-hidden--visually\" id=\"sk-estimator-id-1\" type=\"checkbox\" checked><label for=\"sk-estimator-id-1\" class=\"sk-toggleable__label sk-toggleable__label-arrow\">MultinomialNB</label><div class=\"sk-toggleable__content\"><pre>MultinomialNB()</pre></div></div></div></div></div>"
      ],
      "text/plain": [
       "MultinomialNB()"
      ]
     },
     "execution_count": 48,
     "metadata": {},
     "output_type": "execute_result"
    }
   ],
   "source": [
    "nb = MultinomialNB()\n",
    "nb.fit(X_re,Y_re.ravel())"
   ]
  },
  {
   "cell_type": "code",
   "execution_count": 50,
   "id": "3ae15d28",
   "metadata": {},
   "outputs": [],
   "source": [
    "predicted = nb.predict(test_data)"
   ]
  },
  {
   "cell_type": "code",
   "execution_count": 51,
   "id": "4f42577a",
   "metadata": {},
   "outputs": [
    {
     "name": "stdout",
     "output_type": "stream",
     "text": [
      "Accuracy-: 0.6289514596648816\n",
      "Confusion Matrix:\n",
      " [[15131  7206]\n",
      " [ 3534  3074]]\n",
      "Classification Report:\n",
      "               precision    recall  f1-score   support\n",
      "\n",
      "           0       0.81      0.68      0.74     22337\n",
      "           1       0.30      0.47      0.36      6608\n",
      "\n",
      "    accuracy                           0.63     28945\n",
      "   macro avg       0.55      0.57      0.55     28945\n",
      "weighted avg       0.69      0.63      0.65     28945\n",
      "\n"
     ]
    }
   ],
   "source": [
    "print(\"Accuracy-:\",accuracy_score(Y_test,predicted))\n",
    "print(\"Confusion Matrix:\\n\",confusion_matrix(Y_test, predicted))\n",
    "print(\"Classification Report:\\n\",classification_report(Y_test,predicted))"
   ]
  },
  {
   "cell_type": "code",
   "execution_count": null,
   "id": "807ecbfa",
   "metadata": {},
   "outputs": [],
   "source": []
  },
  {
   "cell_type": "markdown",
   "id": "308cf1d5",
   "metadata": {},
   "source": [
    "## Support Vector Classifier"
   ]
  },
  {
   "cell_type": "code",
   "execution_count": 52,
   "id": "e51e4364",
   "metadata": {},
   "outputs": [
    {
     "name": "stderr",
     "output_type": "stream",
     "text": [
      "C:\\Users\\Dell\\AppData\\Local\\Programs\\Python\\Python39\\lib\\site-packages\\sklearn\\svm\\_base.py:1225: ConvergenceWarning: Liblinear failed to converge, increase the number of iterations.\n",
      "  warnings.warn(\n"
     ]
    },
    {
     "data": {
      "text/html": [
       "<style>#sk-container-id-2 {color: black;background-color: white;}#sk-container-id-2 pre{padding: 0;}#sk-container-id-2 div.sk-toggleable {background-color: white;}#sk-container-id-2 label.sk-toggleable__label {cursor: pointer;display: block;width: 100%;margin-bottom: 0;padding: 0.3em;box-sizing: border-box;text-align: center;}#sk-container-id-2 label.sk-toggleable__label-arrow:before {content: \"▸\";float: left;margin-right: 0.25em;color: #696969;}#sk-container-id-2 label.sk-toggleable__label-arrow:hover:before {color: black;}#sk-container-id-2 div.sk-estimator:hover label.sk-toggleable__label-arrow:before {color: black;}#sk-container-id-2 div.sk-toggleable__content {max-height: 0;max-width: 0;overflow: hidden;text-align: left;background-color: #f0f8ff;}#sk-container-id-2 div.sk-toggleable__content pre {margin: 0.2em;color: black;border-radius: 0.25em;background-color: #f0f8ff;}#sk-container-id-2 input.sk-toggleable__control:checked~div.sk-toggleable__content {max-height: 200px;max-width: 100%;overflow: auto;}#sk-container-id-2 input.sk-toggleable__control:checked~label.sk-toggleable__label-arrow:before {content: \"▾\";}#sk-container-id-2 div.sk-estimator input.sk-toggleable__control:checked~label.sk-toggleable__label {background-color: #d4ebff;}#sk-container-id-2 div.sk-label input.sk-toggleable__control:checked~label.sk-toggleable__label {background-color: #d4ebff;}#sk-container-id-2 input.sk-hidden--visually {border: 0;clip: rect(1px 1px 1px 1px);clip: rect(1px, 1px, 1px, 1px);height: 1px;margin: -1px;overflow: hidden;padding: 0;position: absolute;width: 1px;}#sk-container-id-2 div.sk-estimator {font-family: monospace;background-color: #f0f8ff;border: 1px dotted black;border-radius: 0.25em;box-sizing: border-box;margin-bottom: 0.5em;}#sk-container-id-2 div.sk-estimator:hover {background-color: #d4ebff;}#sk-container-id-2 div.sk-parallel-item::after {content: \"\";width: 100%;border-bottom: 1px solid gray;flex-grow: 1;}#sk-container-id-2 div.sk-label:hover label.sk-toggleable__label {background-color: #d4ebff;}#sk-container-id-2 div.sk-serial::before {content: \"\";position: absolute;border-left: 1px solid gray;box-sizing: border-box;top: 0;bottom: 0;left: 50%;z-index: 0;}#sk-container-id-2 div.sk-serial {display: flex;flex-direction: column;align-items: center;background-color: white;padding-right: 0.2em;padding-left: 0.2em;position: relative;}#sk-container-id-2 div.sk-item {position: relative;z-index: 1;}#sk-container-id-2 div.sk-parallel {display: flex;align-items: stretch;justify-content: center;background-color: white;position: relative;}#sk-container-id-2 div.sk-item::before, #sk-container-id-2 div.sk-parallel-item::before {content: \"\";position: absolute;border-left: 1px solid gray;box-sizing: border-box;top: 0;bottom: 0;left: 50%;z-index: -1;}#sk-container-id-2 div.sk-parallel-item {display: flex;flex-direction: column;z-index: 1;position: relative;background-color: white;}#sk-container-id-2 div.sk-parallel-item:first-child::after {align-self: flex-end;width: 50%;}#sk-container-id-2 div.sk-parallel-item:last-child::after {align-self: flex-start;width: 50%;}#sk-container-id-2 div.sk-parallel-item:only-child::after {width: 0;}#sk-container-id-2 div.sk-dashed-wrapped {border: 1px dashed gray;margin: 0 0.4em 0.5em 0.4em;box-sizing: border-box;padding-bottom: 0.4em;background-color: white;}#sk-container-id-2 div.sk-label label {font-family: monospace;font-weight: bold;display: inline-block;line-height: 1.2em;}#sk-container-id-2 div.sk-label-container {text-align: center;}#sk-container-id-2 div.sk-container {/* jupyter's `normalize.less` sets `[hidden] { display: none; }` but bootstrap.min.css set `[hidden] { display: none !important; }` so we also need the `!important` here to be able to override the default hidden behavior on the sphinx rendered scikit-learn.org. See: https://github.com/scikit-learn/scikit-learn/issues/21755 */display: inline-block !important;position: relative;}#sk-container-id-2 div.sk-text-repr-fallback {display: none;}</style><div id=\"sk-container-id-2\" class=\"sk-top-container\"><div class=\"sk-text-repr-fallback\"><pre>LinearSVC()</pre><b>In a Jupyter environment, please rerun this cell to show the HTML representation or trust the notebook. <br />On GitHub, the HTML representation is unable to render, please try loading this page with nbviewer.org.</b></div><div class=\"sk-container\" hidden><div class=\"sk-item\"><div class=\"sk-estimator sk-toggleable\"><input class=\"sk-toggleable__control sk-hidden--visually\" id=\"sk-estimator-id-2\" type=\"checkbox\" checked><label for=\"sk-estimator-id-2\" class=\"sk-toggleable__label sk-toggleable__label-arrow\">LinearSVC</label><div class=\"sk-toggleable__content\"><pre>LinearSVC()</pre></div></div></div></div></div>"
      ],
      "text/plain": [
       "LinearSVC()"
      ]
     },
     "execution_count": 52,
     "metadata": {},
     "output_type": "execute_result"
    }
   ],
   "source": [
    "from sklearn.svm import LinearSVC\n",
    "LSVC = LinearSVC()\n",
    "LSVC.fit(X_re,Y_re.ravel())"
   ]
  },
  {
   "cell_type": "code",
   "execution_count": 53,
   "id": "54b855a3",
   "metadata": {},
   "outputs": [],
   "source": [
    "LSVC_pre = LSVC.predict(test_data)"
   ]
  },
  {
   "cell_type": "code",
   "execution_count": 54,
   "id": "dd378684",
   "metadata": {},
   "outputs": [
    {
     "name": "stdout",
     "output_type": "stream",
     "text": [
      "Accuracy-: 0.4479530143375367\n",
      "Confusion Matrix:\n",
      " [[ 8438 13899]\n",
      " [ 2080  4528]]\n",
      "Classification Report:\n",
      "               precision    recall  f1-score   support\n",
      "\n",
      "           0       0.80      0.38      0.51     22337\n",
      "           1       0.25      0.69      0.36      6608\n",
      "\n",
      "    accuracy                           0.45     28945\n",
      "   macro avg       0.52      0.53      0.44     28945\n",
      "weighted avg       0.68      0.45      0.48     28945\n",
      "\n"
     ]
    }
   ],
   "source": [
    "print(\"Accuracy-:\",accuracy_score(Y_test,LSVC_pre))\n",
    "print(\"Confusion Matrix:\\n\",confusion_matrix(Y_test, LSVC_pre))\n",
    "print(\"Classification Report:\\n\",classification_report(Y_test,LSVC_pre))"
   ]
  },
  {
   "cell_type": "code",
   "execution_count": null,
   "id": "a85273f6",
   "metadata": {},
   "outputs": [],
   "source": []
  },
  {
   "cell_type": "code",
   "execution_count": null,
   "id": "1b56764d",
   "metadata": {},
   "outputs": [],
   "source": []
  },
  {
   "cell_type": "code",
   "execution_count": null,
   "id": "f9a0d634",
   "metadata": {},
   "outputs": [],
   "source": []
  },
  {
   "cell_type": "code",
   "execution_count": null,
   "id": "0867dc35",
   "metadata": {},
   "outputs": [],
   "source": []
  },
  {
   "cell_type": "code",
   "execution_count": null,
   "id": "052a7aaf",
   "metadata": {},
   "outputs": [],
   "source": []
  },
  {
   "cell_type": "code",
   "execution_count": null,
   "id": "38aa8b2a",
   "metadata": {},
   "outputs": [],
   "source": []
  }
 ],
 "metadata": {
  "kernelspec": {
   "display_name": "Python 3 (ipykernel)",
   "language": "python",
   "name": "python3"
  },
  "language_info": {
   "codemirror_mode": {
    "name": "ipython",
    "version": 3
   },
   "file_extension": ".py",
   "mimetype": "text/x-python",
   "name": "python",
   "nbconvert_exporter": "python",
   "pygments_lexer": "ipython3",
   "version": "3.9.7"
  }
 },
 "nbformat": 4,
 "nbformat_minor": 5
}
